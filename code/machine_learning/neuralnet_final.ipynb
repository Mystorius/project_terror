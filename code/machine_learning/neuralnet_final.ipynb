{
 "cells": [
  {
   "cell_type": "code",
   "execution_count": null,
   "metadata": {
    "colab": {},
    "colab_type": "code",
    "id": "_0ucz1Hsm0Ve"
   },
   "outputs": [],
   "source": [
    "import os\n",
    "import numpy as np\n",
    "import pandas as pd\n",
    "import keras as k\n",
    "import matplotlib as plt\n",
    "import seaborn as sns; sns.set()\n",
    "from keras.models import Sequential\n",
    "from keras.layers import Dense, Dropout, Activation\n",
    "from keras import models, layers\n",
    "from keras.wrappers.scikit_learn import KerasClassifier\n",
    "from keras.utils import np_utils\n",
    "from sklearn.metrics import confusion_matrix\n",
    "from sklearn.metrics import accuracy_score\n",
    "from sklearn.model_selection import train_test_split\n",
    "from sklearn.preprocessing import LabelEncoder\n",
    "from sklearn.model_selection import GridSearchCV\n",
    "from keras.utils import to_categorical\n",
    "from keras.optimizers import SGD\n",
    "from keras import metrics\n",
    "import tensorflow as tf\n",
    "from pandas_ml import ConfusionMatrix\n",
    "import matplotlib.pyplot as plt"
   ]
  },
  {
   "cell_type": "code",
   "execution_count": null,
   "metadata": {},
   "outputs": [],
   "source": [
    "! pip install pandas_ml"
   ]
  },
  {
   "cell_type": "code",
   "execution_count": null,
   "metadata": {
    "colab": {
     "base_uri": "https://localhost:8080/",
     "height": 234
    },
    "colab_type": "code",
    "id": "LMUt-pgmpy7f",
    "outputId": "ef03b5c4-a87e-4b49-db00-8cd5e0056e90"
   },
   "outputs": [],
   "source": [
    "c=2\n",
    "np.random.seed(1)\n",
    "if c==1:\n",
    "    df = pd.read_csv(\"data_ml.txt\", sep=';' ,error_bad_lines=False)\n",
    "    df = df[df[\"iyear\"]>=2000].drop(columns=\"Unnamed: 0\")\n",
    "    df = df[df.gname != 'Unknown']\n",
    "    df = df[[\"gname\",\"imonth\",\"iday\",\"country\",\"region\",\"latitude\",\"longitude\",\"attacktype1\",\"targtype1\",\"targsubtype1\",\"natlty1\"]]\n",
    "    a = df['gname'].value_counts().nlargest(10)\n",
    "    #df[df['gname']=='Boko Haram'].append(df[df['gname']=='Islamic State of Iraq and the Levant (ISIL)']).append(df[df['gname']=='Taliban'])\n",
    "    df_filtered = pd.DataFrame()\n",
    "    for i in a.index:\n",
    "        b = df[df.gname == i]\n",
    "        df_filtered = df_filtered.append(b)\n",
    "    \n",
    "    df = df_filtered\n",
    "    df = df.fillna(-99)\n",
    "    lb_make = LabelEncoder()\n",
    "    df[\"gname_num\"] = lb_make.fit_transform(df[\"gname\"])\n",
    "    \n",
    "    X = df.values[:, 1:11]\n",
    "    Y = df.values[:, 11]\n",
    "    Y = to_categorical(Y)\n",
    "    x_train, x_test, y_train, y_test = train_test_split(X, Y, test_size=0.33, random_state=42)\n",
    "else:\n",
    "    df = pd.read_csv(\"data_ml.txt\", sep=\";\" ,error_bad_lines=False)\n",
    "    df = df[df[\"iyear\"]>=2000].drop(columns=\"Unnamed: 0\")\n",
    "    df = df[df.gname != 'Unknown']\n",
    "    df = df[[\"gname\",\"imonth\",\"iday\",\"country\",\"region\",\"latitude\",\"longitude\",\"attacktype1\",\"targtype1\",\"targsubtype1\",\"natlty1\"]]\n",
    "    df = df.fillna(-99)\n",
    "    lb_make = LabelEncoder()\n",
    "    df[\"gname_num\"] = lb_make.fit_transform(df[\"gname\"])\n",
    "    \n",
    "    X = df.values[:, 1:11]\n",
    "    Y = df.values[:, 11]\n",
    "    Y = to_categorical(Y)\n",
    "    x_train, x_test, y_train, y_test = train_test_split(X, Y, test_size=0.33, random_state=42)"
   ]
  },
  {
   "cell_type": "code",
   "execution_count": null,
   "metadata": {
    "colab": {
     "base_uri": "https://localhost:8080/",
     "height": 1791
    },
    "colab_type": "code",
    "id": "dOhwtO3gpzKQ",
    "outputId": "32c193f7-b3a4-42f9-a43d-ca20770fc066"
   },
   "outputs": [],
   "source": [
    "np.random.seed(1)    \n",
    "model1 = Sequential()\n",
    "model1.add(Dense(10, activation='relu', input_shape=(X.shape[1],), use_bias=True, bias_initializer='zeros'))\n",
    "model1.add(Dropout(0.1))\n",
    "model1.add(Dense(100, activation='relu', use_bias=True, bias_initializer='zeros'))\n",
    "model1.add(Dropout(0.1))\n",
    "model1.add(Dense(250, activation='relu', use_bias=True, bias_initializer='zeros'))\n",
    "model1.add(Dropout(0.2))\n",
    "model1.add(Dense(100, activation='relu', use_bias=True, bias_initializer='zeros'))\n",
    "model1.add(Dropout(0.1))\n",
    "model1.add(Dense(output_dim=Y.shape[1], activation='softmax'))\n",
    "model1.compile(loss='categorical_crossentropy', optimizer='adam',metrics=['acc',\"mae\",\"mse\"])\n",
    "\n",
    "model1.fit(x_train, y_train, epochs=10)"
   ]
  },
  {
   "cell_type": "code",
   "execution_count": null,
   "metadata": {
    "colab": {},
    "colab_type": "code",
    "id": "EFfhQAfGEH_0"
   },
   "outputs": [],
   "source": [
    "preds = model1.predict(x_test)\n",
    "#np.argmax(preds, axis=None, out=None)\n",
    "y_preds = [np.argmax(p, axis=None, out=None) for p in preds]\n",
    "y_test_labels = [np.argmax(y, axis=None, out=None) for y in y_test] "
   ]
  },
  {
   "cell_type": "code",
   "execution_count": null,
   "metadata": {
    "colab": {
     "base_uri": "https://localhost:8080/",
     "height": 34
    },
    "colab_type": "code",
    "id": "48eeN_aYEKgk",
    "outputId": "d1b52192-dd84-4f19-90de-6b03ffb735a0"
   },
   "outputs": [],
   "source": [
    "accuracy_score(y_test_labels, y_preds)"
   ]
  },
  {
   "cell_type": "code",
   "execution_count": null,
   "metadata": {
    "colab": {
     "base_uri": "https://localhost:8080/",
     "height": 34
    },
    "colab_type": "code",
    "id": "M5krVLCKENpN",
    "outputId": "bc7c657e-04b9-44f7-fd6c-36cd70dc4b9f"
   },
   "outputs": [],
   "source": [
    "cm = confusion_matrix(y_preds, y_test_labels)\n",
    "cm.shape"
   ]
  },
  {
   "cell_type": "code",
   "execution_count": null,
   "metadata": {
    "colab": {
     "base_uri": "https://localhost:8080/",
     "height": 1811
    },
    "colab_type": "code",
    "id": "Zq_qVxuLLN06",
    "outputId": "3fc911cd-3bfa-4311-86f3-4b26cbd23963"
   },
   "outputs": [],
   "source": [
    "np.random.seed(1)    \n",
    "model = Sequential()\n",
    "model.add(Dense(10, activation='relu', input_shape=(X.shape[1],), use_bias=True, bias_initializer='zeros'))\n",
    "model.add(Dropout(0.1))\n",
    "model.add(Dense(100, activation='relu', use_bias=True, bias_initializer='zeros'))\n",
    "model.add(Dropout(0.1))\n",
    "model.add(Dense(250, activation='relu', use_bias=True, bias_initializer='zeros'))\n",
    "model.add(Dropout(0.2))\n",
    "model.add(Dense(100, activation='relu', use_bias=True, bias_initializer='zeros'))\n",
    "model.add(Dropout(0.1))\n",
    "model.add(Dense(output_dim=Y.shape[1], activation='softmax'))\n",
    "model.compile(loss='categorical_crossentropy', optimizer='adam',metrics=['acc',\"mae\",\"mse\"])\n",
    "\n",
    "model.fit(x_train, y_train, epochs=50)"
   ]
  },
  {
   "cell_type": "code",
   "execution_count": null,
   "metadata": {
    "colab": {},
    "colab_type": "code",
    "id": "jXGMjsyZMF3K"
   },
   "outputs": [],
   "source": [
    "preds = model.predict(x_test)\n",
    "#np.argmax(preds, axis=None, out=None)\n",
    "y_preds = [np.argmax(p, axis=None, out=None) for p in preds]\n",
    "y_test_labels = [np.argmax(y, axis=None, out=None) for y in y_test] "
   ]
  },
  {
   "cell_type": "code",
   "execution_count": null,
   "metadata": {
    "colab": {
     "base_uri": "https://localhost:8080/",
     "height": 34
    },
    "colab_type": "code",
    "id": "rArOuaEpMGDm",
    "outputId": "52a8fcd0-985b-444a-f997-ce94332f649e"
   },
   "outputs": [],
   "source": [
    "accuracy_score(y_test_labels, y_preds)"
   ]
  },
  {
   "cell_type": "code",
   "execution_count": null,
   "metadata": {
    "colab": {
     "base_uri": "https://localhost:8080/",
     "height": 189
    },
    "colab_type": "code",
    "id": "tkT3WYPjfMX6",
    "outputId": "fd8ab562-3284-4a6e-d94d-33f50c347cd1"
   },
   "outputs": [],
   "source": [
    "cm = confusion_matrix(lb_make.inverse_transform(y_preds), lb_make.inverse_transform(y_test_labels))\n",
    "cm"
   ]
  },
  {
   "cell_type": "code",
   "execution_count": null,
   "metadata": {
    "colab": {
     "base_uri": "https://localhost:8080/",
     "height": 632
    },
    "colab_type": "code",
    "id": "yqDtm_fPMGQL",
    "outputId": "938dd8a0-ed0b-49b5-b568-dfe7f4a0decc"
   },
   "outputs": [],
   "source": [
    "#from google.colab import files\n",
    "cm = ConfusionMatrix(lb_make.inverse_transform(y_preds), lb_make.inverse_transform(y_test_labels))\n",
    "cm.plot()\n",
    "#plt.savefig( \"cm.png\", bbox_inches='tight', dpi=200) \n",
    "#files.download(\"cm.png\") "
   ]
  },
  {
   "cell_type": "code",
   "execution_count": null,
   "metadata": {},
   "outputs": [],
   "source": [
    "london = np.array([6, #imonth\n",
    "          3, #iday\n",
    "          603, #country\n",
    "          8, #region\n",
    "          51.508297, #lat\n",
    "          -0.087703, #lon\n",
    "          2, #attacktype1\n",
    "          18, #targtype1\n",
    "          97, #targszbtype1\n",
    "          216, #nalty1\n",
    "          #3, #nperps\n",
    "          #9, #weaptype1\n",
    "          #9, #weaptype2\n",
    "          #10, #weaptype3\n",
    "          #11, #nkill\n",
    "          #48, #nwound\n",
    "          #0, #property\n",
    "          #3, #propextent\n",
    "          #0 #nhostkid\n",
    "         ]).reshape(1, 10)"
   ]
  },
  {
   "cell_type": "code",
   "execution_count": null,
   "metadata": {},
   "outputs": [],
   "source": [
    "#create list 5 likeliest organisations + probabilities for london attack\n",
    "ld = model1.predict(london)\n",
    "b =[]\n",
    "a = (-ld).argsort()[:5]\n",
    "for i in range(0,5):\n",
    "    b.append([lb_make.inverse_transform([a.item(i)])[0], ld.item(a.item(i))])\n",
    "    \n",
    "# Plot the prediction\n",
    "names = []\n",
    "values = []\n",
    "for i in range(0,5):\n",
    "    names.append(b[i][0])\n",
    "    values.append(b[i][1])\n",
    "    \n",
    "fig, ax = plt.subplots()\n",
    "#plt.title(\"London 2017 Borough Market (Top 5)\")\n",
    "sns.barplot(y=names, x=values, palette='inferno')\n",
    "ax.set_xlabel('Probabilty Score')\n",
    "\n",
    "plt.savefig(\"london.png\",bbox_inches='tight', dpi=200)\n",
    "plt.show()"
   ]
  },
  {
   "cell_type": "code",
   "execution_count": null,
   "metadata": {},
   "outputs": [],
   "source": [
    "paris = np.array([11, #imonth\n",
    "          13, #iday\n",
    "          69, #country\n",
    "          8, #region\n",
    "          48.862883, #lat\n",
    "           2.370326, #lon\n",
    "          2, #attacktype1\n",
    "          14, #targtype1\n",
    "          81, #targszbtype1\n",
    "          69, #nalty1\n",
    "          #9, #nperps\n",
    "          #5, #weaptype1\n",
    "          #6, #weaptype2\n",
    "          #5, #weaptype3\n",
    "          #137, #nkill\n",
    "          #413, #nwound\n",
    "          #0, #property\n",
    "          #3, #propextent\n",
    "          #12 #nhostkid\n",
    "         ]).reshape(1, 10)"
   ]
  },
  {
   "cell_type": "code",
   "execution_count": null,
   "metadata": {},
   "outputs": [],
   "source": [
    "#create list 5 likeliest organisations + probabilities for paris attack \n",
    "pr = model1.predict(paris)\n",
    "b =[]\n",
    "a = (-pr).argsort()[:5]\n",
    "for i in range(0,5):\n",
    "    b.append([lb_make.inverse_transform([a.item(i)])[0], pr.item(a.item(i))])\n",
    "    \n",
    "# Plot the prediction\n",
    "names = []\n",
    "values = []\n",
    "for i in range(0,5):\n",
    "    names.append(b[i][0])\n",
    "    values.append(b[i][1])\n",
    "    \n",
    "fig, ax = plt.subplots()\n",
    "#plt.title(\"Paris 2015 Bataclan Theater (Top 5)\")\n",
    "sns.barplot(y=names, x=values, palette='inferno')\n",
    "ax.set_xlabel('Probabilty Score')\n",
    "\n",
    "plt.savefig(\"paris.png\",bbox_inches='tight', dpi=200)\n",
    "plt.show()  "
   ]
  }
 ],
 "metadata": {
  "accelerator": "GPU",
  "colab": {
   "collapsed_sections": [],
   "name": "Untitled3.ipynb",
   "provenance": [],
   "version": "0.3.2"
  },
  "kernelspec": {
   "display_name": "Python 3",
   "language": "python",
   "name": "python3"
  },
  "language_info": {
   "codemirror_mode": {
    "name": "ipython",
    "version": 3
   },
   "file_extension": ".py",
   "mimetype": "text/x-python",
   "name": "python",
   "nbconvert_exporter": "python",
   "pygments_lexer": "ipython3",
   "version": "3.6.5"
  }
 },
 "nbformat": 4,
 "nbformat_minor": 2
}
