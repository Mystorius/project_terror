{
  "nbformat": 4,
  "nbformat_minor": 0,
  "metadata": {
    "colab": {
      "name": "random_forest.ipynb",
      "version": "0.3.2",
      "provenance": [],
      "collapsed_sections": [],
      "include_colab_link": true
    },
    "kernelspec": {
      "name": "python3",
      "display_name": "Python 3"
    }
  },
  "cells": [
    {
      "cell_type": "markdown",
      "metadata": {
        "id": "view-in-github",
        "colab_type": "text"
      },
      "source": [
        "<a href=\"https://colab.research.google.com/github/Mystorius/project_terror/blob/final_code/random_forest.ipynb\" target=\"_parent\"><img src=\"https://colab.research.google.com/assets/colab-badge.svg\" alt=\"Open In Colab\"/></a>"
      ]
    },
    {
      "metadata": {
        "id": "VaGhjRiCVgju",
        "colab_type": "code",
        "colab": {}
      },
      "cell_type": "code",
      "source": [
        "import pandas as pd\n",
        "import numpy as np\n",
        "import seaborn as sns\n",
        "import matplotlib.pyplot as plt\n",
        "from time import time\n",
        "from scipy.stats import randint as sp_randint\n",
        "from sklearn.ensemble import RandomForestClassifier\n",
        "from sklearn.model_selection import train_test_split\n",
        "from sklearn.preprocessing import OneHotEncoder, LabelEncoder\n",
        "from sklearn.metrics import accuracy_score, log_loss\n",
        "from sklearn.model_selection import StratifiedShuffleSplit, GridSearchCV, RandomizedSearchCV\n",
        "from sklearn.ensemble import RandomForestClassifier"
      ],
      "execution_count": 0,
      "outputs": []
    },
    {
      "metadata": {
        "id": "2Jed-VIgi2s8",
        "colab_type": "code",
        "outputId": "3e0d59b9-12cc-4129-92c1-07c3c5350ae1",
        "colab": {
          "base_uri": "https://localhost:8080/",
          "height": 54
        }
      },
      "cell_type": "code",
      "source": [
        "def get_train_test():\n",
        "    file = 'data_ml.csv'\n",
        "    df = pd.read_csv(file, sep=\";\", header=0, encoding=\"ISO-8859-1\", low_memory=False)\n",
        "    df = df[df.gname != 'Unknown']\n",
        "    df_X = df.drop(['gname','Unnamed: 0'], axis=1)\n",
        "#     df_X = df.drop(['gname','Unnamed: 0', 'weaptype3', 'nhostkid', 'weaptype2', 'property', 'propextent', 'weaptype1', 'nperps', 'region'], axis=1)\n",
        "    df_y = df['gname'].values\n",
        "    \n",
        "    label_encoder = LabelEncoder()\n",
        "    df_y_int = label_encoder.fit_transform(df_y)\n",
        "    \n",
        "    return train_test_split(df_X, df_y, test_size=0.33, random_state=42, stratify=None, shuffle=True)\n",
        "  \n",
        "X_train, X_test, y_train, y_test = get_train_test()\n",
        "X_train = X_train.values\n",
        "print(np.unique(y_train).shape)\n",
        "print(np.unique(y_test).shape)"
      ],
      "execution_count": 0,
      "outputs": [
        {
          "output_type": "stream",
          "text": [
            "(1229,)\n",
            "(929,)\n"
          ],
          "name": "stdout"
        }
      ]
    },
    {
      "metadata": {
        "colab_type": "code",
        "id": "340A2HRPZXsu",
        "outputId": "da5d47ac-3698-4609-cd82-bf6b3a373a74",
        "colab": {
          "base_uri": "https://localhost:8080/",
          "height": 54
        }
      },
      "cell_type": "code",
      "source": [
        "\n",
        "X_train, X_test, y_train, y_test = get_train_test()\n",
        "X_train = X_train.values\n",
        "\n",
        "# Create a random forest Classifier. By convention, clf means 'Classifier'\n",
        "# clf = RandomForestClassifier(bootstrap=True, class_weight=None, criterion='gini',\n",
        "#             max_depth=None, max_features='auto', max_leaf_nodes=None,\n",
        "#             min_impurity_decrease=0.0, min_impurity_split=None,\n",
        "#             min_samples_leaf=1, min_samples_split=2,\n",
        "#             min_weight_fraction_leaf=0.0, n_estimators=1, n_jobs=-1,\n",
        "#             oob_score=False, random_state=42, verbose=0,\n",
        "#             warm_start=False)\n",
        "\n",
        "clf = RandomForestClassifier(bootstrap=False, class_weight=None, criterion='entropy',\n",
        "            max_depth=73, max_features='auto', max_leaf_nodes=None,\n",
        "            min_impurity_decrease=0.0, min_impurity_split=None,\n",
        "            min_samples_leaf=1, min_samples_split=10,\n",
        "            min_weight_fraction_leaf=0.0, n_estimators=5, n_jobs=-1,\n",
        "            oob_score=False, random_state=42, verbose=0,\n",
        "            warm_start=False)\n",
        "\n",
        "# Train the Classifier to take the training features and learn how they relate\n",
        "# to the training y (the species)\n",
        "clf.fit(X_train, y_train)\n",
        "\n",
        "# Apply the Classifier we trained to the test data (which, remember, it has never seen before)\n",
        "y_pred = clf.predict(X_test)\n",
        "\n",
        "score = clf.score(X_train, y_train)\n",
        "print('TRAIN ', score)\n",
        "\n",
        "score = clf.score(X_test, y_test)\n",
        "print('TEST ', score)"
      ],
      "execution_count": 0,
      "outputs": [
        {
          "output_type": "stream",
          "text": [
            "TRAIN  0.9311182465447438\n",
            "TEST  0.7461028286378323\n"
          ],
          "name": "stdout"
        }
      ]
    },
    {
      "metadata": {
        "id": "yZbgt-VAMqD1",
        "colab_type": "code",
        "outputId": "2401cdb2-b0bd-486c-c108-2c9cb9729b02",
        "colab": {
          "base_uri": "https://localhost:8080/",
          "height": 184
        }
      },
      "cell_type": "code",
      "source": [
        "## London 2017 borough market\n",
        "X_train, X_test, y_train, y_test = get_train_test()\n",
        "print(X_train.columns)\n",
        "own_test = np.array([6, 3, 603, 8, 51.508297, -0.087703,\n",
        "       2, 18, 97, 216, 3, 9, 9, 10, 11, 48, 0,\n",
        "       3, 0]).reshape(1, 19)\n",
        "print(own_test.shape)\n",
        "y_pred_own = clf.predict_proba(own_test)\n",
        "print(y_pred_own)\n",
        "\n",
        "result = []\n",
        "for i, j in (zip(clf.classes_, clf.predict_proba(own_test)[0])):\n",
        "  if j > 0:\n",
        "    result.append([i, j])\n",
        "final = sorted(result, key=lambda x: x[1], reverse=True)\n",
        "print(final)"
      ],
      "execution_count": 0,
      "outputs": [
        {
          "output_type": "stream",
          "text": [
            "Index(['imonth', 'iday', 'country', 'region', 'latitude', 'longitude',\n",
            "       'attacktype1', 'targtype1', 'targsubtype1', 'natlty1', 'nperps',\n",
            "       'weaptype1', 'weaptype2', 'weaptype3', 'nkill', 'nwound', 'property',\n",
            "       'propextent', 'nhostkid'],\n",
            "      dtype='object')\n",
            "(1, 19)\n",
            "[[0. 0. 0. ... 0. 0. 0.]]\n",
            "[['Al-Qaida', 0.1525925925925926], ['Muslim extremists', 0.1455026455026455], ['Anti-Muslim extremists', 0.05952380952380952], ['White extremists', 0.049444444444444444], ['Jihadi-inspired extremists', 0.04481481481481482], ['Basque Fatherland and Freedom (ETA)', 0.044444444444444446], [\"Kurdistan Workers' Party (PKK)\", 0.043333333333333335], ['Islamic State of Iraq and the Levant (ISIL)', 0.035555555555555556], ['Salafia Jihadia', 0.03333333333333333], ['Hofstad Network', 0.024444444444444446], ['Incel extremists', 0.02222222222222222], ['Red Hand Defenders (RHD)', 0.02222222222222222], ['Ulster Volunteer Force (UVF)', 0.02222222222222222], ['Real Irish Republican Army (RIRA)', 0.02074074074074074], ['Continuity Irish Republican Army (CIRA)', 0.016666666666666666], ['Gunmen', 0.016666666666666666], ['Loyalists', 0.016666666666666666], ['Right-wing extremists', 0.01574074074074074], ['Dissident Republicans', 0.013333333333333334], ['Irish Republican Army (IRA)', 0.013333333333333334], ['Jund al-Khilafah (Tunisia)', 0.013333333333333334], [\"Militant People's Revolutionary Forces\", 0.013333333333333334], ['Red Brigades Fighting Communist Union (BR-UCC)', 0.013333333333333334], ['South East Antrim Brigade', 0.013333333333333334], ['Bunda Dia Kongo (BDK)', 0.01111111111111111], ['Hutu extremists', 0.01111111111111111], ['Kamwina Nsapu Militia', 0.01111111111111111], ['Lendu extremists', 0.01111111111111111], [\"Lord's Resistance Army (LRA)\", 0.01111111111111111], ['Loyalist Action Force', 0.01111111111111111], ['Loyalist Volunteer Forces (LVF)', 0.01111111111111111], ['Oglaigh na hEireann', 0.01111111111111111], ['The New Irish Republican Army', 0.01111111111111111], ['Anti-Immigrant extremists', 0.009523809523809523], ['Islamic Movement of Uzbekistan (IMU)', 0.009523809523809523], ['Babbar Khalsa International (BKI)', 0.007407407407407407], ['Neo-Nazi extremists', 0.007407407407407407]]\n"
          ],
          "name": "stdout"
        }
      ]
    },
    {
      "metadata": {
        "id": "szW9fKfxQxZF",
        "colab_type": "code",
        "outputId": "fa2f4d26-82f2-4361-fc15-c58ad07e14b9",
        "colab": {
          "base_uri": "https://localhost:8080/",
          "height": 413
        }
      },
      "cell_type": "code",
      "source": [
        "# Plot the prediction\n",
        "final = final[0:5]\n",
        "names = [x[0] for x in final]\n",
        "values = [x[1] for x in final]\n",
        "\n",
        "fig, ax = plt.subplots()\n",
        "plt.title(\"London 2017 Borough Market (Top 5)\")\n",
        "sns.barplot(y=names, x=values, palette='inferno')\n",
        "ax.set_xlabel('Probabilty Score')\n",
        "\n",
        "plt.show()"
      ],
      "execution_count": 0,
      "outputs": [
        {
          "output_type": "stream",
          "text": [
            "/usr/local/lib/python3.6/dist-packages/seaborn/categorical.py:1428: FutureWarning: remove_na is deprecated and is a private function. Do not use.\n",
            "  stat_data = remove_na(group_data)\n"
          ],
          "name": "stderr"
        },
        {
          "output_type": "display_data",
          "data": {
            "image/png": "[encoded data removed]",
            "text/plain": [
              "<Figure size 576x396 with 1 Axes>"
            ]
          },
          "metadata": {
            "tags": []
          }
        }
      ]
    },
    {
      "metadata": {
        "id": "KoNl2-H4V6FE",
        "colab_type": "code",
        "outputId": "74022c65-26e6-4ae4-c3dd-13c0117bfcdf",
        "colab": {
          "base_uri": "https://localhost:8080/",
          "height": 146
        }
      },
      "cell_type": "code",
      "source": [
        "## Paris 2015 Bataclan theater\n",
        "X_train, X_test, y_train, y_test = get_train_test()\n",
        "print(X_train.columns)\n",
        "own_test = np.array([11, 13, 69, 8, 48.862883, 2.370326,\n",
        "       2, 14, 81, 69, 9, 5, 6, 5, 137, 413, 0,\n",
        "       3, 12]).reshape(1, 19)\n",
        "print(own_test.shape)\n",
        "y_pred_own = clf.predict_proba(own_test)\n",
        "print(y_pred_own)\n",
        "\n",
        "result = []\n",
        "for i, j in (zip(clf.classes_, clf.predict_proba(own_test)[0])):\n",
        "  if j > 0:\n",
        "    result.append([i, j])\n",
        "final = (sorted(result, key=lambda x: x[1], reverse=True))"
      ],
      "execution_count": 0,
      "outputs": [
        {
          "output_type": "stream",
          "text": [
            "Index(['imonth', 'iday', 'country', 'region', 'latitude', 'longitude',\n",
            "       'attacktype1', 'targtype1', 'targsubtype1', 'natlty1', 'nperps',\n",
            "       'weaptype1', 'weaptype2', 'weaptype3', 'nkill', 'nwound', 'property',\n",
            "       'propextent', 'nhostkid'],\n",
            "      dtype='object')\n",
            "(1, 19)\n",
            "[[0. 0. 0. ... 0. 0. 0.]]\n"
          ],
          "name": "stdout"
        }
      ]
    },
    {
      "metadata": {
        "id": "zMqMEhAGTl2y",
        "colab_type": "code",
        "outputId": "5de987dd-4386-4ab1-fa6a-e00ebf0b38c1",
        "colab": {
          "base_uri": "https://localhost:8080/",
          "height": 413
        }
      },
      "cell_type": "code",
      "source": [
        "# Plot the prediction\n",
        "final = final[0:5]\n",
        "names = [x[0] for x in final]\n",
        "values = [x[1] for x in final]\n",
        "\n",
        "fig, ax = plt.subplots()\n",
        "plt.title(\"Paris 2015 Bataclan Theater (Top 5)\")\n",
        "sns.barplot(y=names, x=values, palette='inferno')\n",
        "ax.set_xlabel('Probabilty Score')\n",
        "plt.show()"
      ],
      "execution_count": 0,
      "outputs": [
        {
          "output_type": "stream",
          "text": [
            "/usr/local/lib/python3.6/dist-packages/seaborn/categorical.py:1428: FutureWarning: remove_na is deprecated and is a private function. Do not use.\n",
            "  stat_data = remove_na(group_data)\n"
          ],
          "name": "stderr"
        },
        {
          "output_type": "display_data",
          "data": {
            "image/png": "[encoded data removed]",
            "text/plain": [
              "<Figure size 576x396 with 1 Axes>"
            ]
          },
          "metadata": {
            "tags": []
          }
        }
      ]
    },
    {
      "metadata": {
        "id": "RpNOWurtD5Bv",
        "colab_type": "code",
        "outputId": "173b0d11-28fb-4b79-8d4c-97520206262c",
        "colab": {
          "base_uri": "https://localhost:8080/",
          "height": 1025
        }
      },
      "cell_type": "code",
      "source": [
        "importances = clf.feature_importances_\n",
        "print(importances)\n",
        "print(sum(importances))\n",
        "sort = sorted(importances, reverse=True)\n",
        "print(sum(sort[0:4]))\n",
        "\n",
        "std = np.std([tree.feature_importances_ for tree in clf.estimators_],\n",
        "             axis=0)\n",
        "indices = np.argsort(importances)[::-1]\n",
        "feature_names = X_test.columns\n",
        "print(feature_names)\n",
        "# Print the feature ranking\n",
        "print(\"Feature ranking:\")\n",
        "\n",
        "for f in range(X_train.shape[1]):\n",
        "    print(\"%d. feature %s (%f)\" % (f + 1, feature_names[indices[f]], importances[indices[f]]))\n",
        "\n",
        "# Plot the feature importances of the forest\n",
        "plt.figure()\n",
        "plt.title(\"Feature importances\")\n",
        "sns.barplot(importances, feature_names, palette='inferno')\n"
      ],
      "execution_count": 0,
      "outputs": [
        {
          "output_type": "stream",
          "text": [
            "[1.82570091e-02 1.50136519e-02 1.02055612e-01 8.68034278e-02\n",
            " 2.01100947e-01 3.68289888e-01 1.58843505e-02 1.95766430e-02\n",
            " 2.67963567e-02 7.64656406e-02 7.80589070e-03 1.46135124e-02\n",
            " 2.39594408e-03 3.43890975e-04 1.56998144e-02 1.10053181e-02\n",
            " 6.41396241e-03 7.78529571e-03 3.69284449e-03]\n",
            "1.0000000000000002\n",
            "0.7582498748675034\n",
            "Index(['imonth', 'iday', 'country', 'region', 'latitude', 'longitude',\n",
            "       'attacktype1', 'targtype1', 'targsubtype1', 'natlty1', 'nperps',\n",
            "       'weaptype1', 'weaptype2', 'weaptype3', 'nkill', 'nwound', 'property',\n",
            "       'propextent', 'nhostkid'],\n",
            "      dtype='object')\n",
            "Feature ranking:\n",
            "1. feature longitude (0.368290)\n",
            "2. feature latitude (0.201101)\n",
            "3. feature country (0.102056)\n",
            "4. feature region (0.086803)\n",
            "5. feature natlty1 (0.076466)\n",
            "6. feature targsubtype1 (0.026796)\n",
            "7. feature targtype1 (0.019577)\n",
            "8. feature imonth (0.018257)\n",
            "9. feature attacktype1 (0.015884)\n",
            "10. feature nkill (0.015700)\n",
            "11. feature iday (0.015014)\n",
            "12. feature weaptype1 (0.014614)\n",
            "13. feature nwound (0.011005)\n",
            "14. feature nperps (0.007806)\n",
            "15. feature propextent (0.007785)\n",
            "16. feature property (0.006414)\n",
            "17. feature nhostkid (0.003693)\n",
            "18. feature weaptype2 (0.002396)\n",
            "19. feature weaptype3 (0.000344)\n"
          ],
          "name": "stdout"
        },
        {
          "output_type": "stream",
          "text": [
            "/usr/local/lib/python3.6/dist-packages/seaborn/categorical.py:1428: FutureWarning: remove_na is deprecated and is a private function. Do not use.\n",
            "  stat_data = remove_na(group_data)\n"
          ],
          "name": "stderr"
        },
        {
          "output_type": "execute_result",
          "data": {
            "text/plain": [
              "<matplotlib.axes._subplots.AxesSubplot at 0x7f7247c03a58>"
            ]
          },
          "metadata": {
            "tags": []
          },
          "execution_count": 60
        },
        {
          "output_type": "display_data",
          "data": {
            "image/png": "[encoded data removed]",
            "text/plain": [
              "<Figure size 576x396 with 1 Axes>"
            ]
          },
          "metadata": {
            "tags": []
          }
        }
      ]
    },
    {
      "metadata": {
        "id": "6800PNtKJZ4z",
        "colab_type": "code",
        "colab": {}
      },
      "cell_type": "code",
      "source": [
        "rf_small = RandomForestClassifier(bootstrap=False, class_weight=None, criterion='entropy',\n",
        "            max_depth=3, max_features='auto', max_leaf_nodes=None,\n",
        "            min_impurity_decrease=0.0, min_impurity_split=None,\n",
        "            min_samples_leaf=1, min_samples_split=10,\n",
        "            min_weight_fraction_leaf=0.0, n_estimators=5, n_jobs=-1,\n",
        "            oob_score=False, random_state=42, verbose=0,\n",
        "            warm_start=False)\n",
        "rf_small.fit(X_train, y_train)\n",
        "\n",
        "# Import tools needed for visualization\n",
        "from sklearn.tree import export_graphviz\n",
        "import pydot\n",
        "\n",
        "# Pull out one tree from the forest\n",
        "tree = rf_small.estimators_[0]\n",
        "\n",
        "# Export the image to a dot file\n",
        "export_graphviz(tree, out_file = 'tree.dot', feature_names = X_test.columns, rounded = True, precision = 1)\n",
        "\n",
        "# Use dot file to create a graph\n",
        "(graph, ) = pydot.graph_from_dot_file('tree.dot')\n",
        "\n",
        "# Write graph to a png file\n",
        "graph.write_png('tree.png')"
      ],
      "execution_count": 0,
      "outputs": []
    },
    {
      "metadata": {
        "id": "XgeBXCEmOOL9",
        "colab_type": "code",
        "outputId": "5c81416e-c220-440a-cf77-90e16974b3d5",
        "colab": {
          "base_uri": "https://localhost:8080/",
          "height": 615
        }
      },
      "cell_type": "code",
      "source": [
        "# get some data\n",
        "X_train, X_test, y_train, y_test = get_train_test()\n",
        "\n",
        "# build a classifier\n",
        "clf = RandomForestClassifier(n_estimators=1)\n",
        "\n",
        "\n",
        "# Utility function to report best scores\n",
        "def report(results, n_top=3):\n",
        "    for i in range(1, n_top + 1):\n",
        "        candidates = np.flatnonzero(results['rank_test_score'] == i)\n",
        "        for candidate in candidates:\n",
        "            print(\"Model with rank: {0}\".format(i))\n",
        "            print(\"Mean validation score: {0:.3f} (std: {1:.3f})\".format(\n",
        "                  results['mean_test_score'][candidate],\n",
        "                  results['std_test_score'][candidate]))\n",
        "            print(\"Parameters: {0}\".format(results['params'][candidate]))\n",
        "            print(\"\")\n",
        "\n",
        "\n",
        "# specify parameters and distributions to sample from\n",
        "param_dist = {\"max_depth\": [3, None],\n",
        "              \"max_features\": sp_randint(1, 11),\n",
        "              \"min_samples_split\": sp_randint(2, 11),\n",
        "              \"bootstrap\": [True, False],\n",
        "              \"criterion\": [\"gini\", \"entropy\"]}\n",
        "\n",
        "# run randomized search\n",
        "n_iter_search = 20\n",
        "random_search = RandomizedSearchCV(clf, param_distributions=param_dist,\n",
        "                                   n_iter=n_iter_search, cv=5)\n",
        "\n",
        "start = time()\n",
        "random_search.fit(X_train, y_train)\n",
        "print(\"RandomizedSearchCV took %.2f seconds for %d candidates\"\n",
        "      \" parameter settings.\" % ((time() - start), n_iter_search))\n",
        "report(random_search.cv_results_)\n",
        "\n",
        "# use a full grid over all parameters\n",
        "param_grid = {\"max_depth\": [3, None],\n",
        "              \"max_features\": [1, 3, 10],\n",
        "              \"min_samples_split\": [2, 3, 10],\n",
        "              \"bootstrap\": [True, False],\n",
        "              \"criterion\": [\"gini\", \"entropy\"]}\n",
        "\n",
        "# run grid search\n",
        "grid_search = GridSearchCV(clf, param_grid=param_grid, cv=5)\n",
        "start = time()\n",
        "grid_search.fit(X_train, y_train)\n",
        "\n",
        "print(\"GridSearchCV took %.2f seconds for %d candidate parameter settings.\"\n",
        "      % (time() - start, len(grid_search.cv_results_['params'])))\n",
        "report(grid_search.cv_results_)"
      ],
      "execution_count": 0,
      "outputs": [
        {
          "output_type": "stream",
          "text": [
            "/usr/local/lib/python3.6/dist-packages/sklearn/model_selection/_split.py:652: Warning: The least populated class in y has only 1 members, which is too few. The minimum number of members in any class cannot be less than n_splits=5.\n",
            "  % (min_groups, self.n_splits)), Warning)\n",
            "/usr/local/lib/python3.6/dist-packages/sklearn/model_selection/_search.py:841: DeprecationWarning: The default of the `iid` parameter will change from True to False in version 0.22 and will be removed in 0.24. This will change numeric results when test-set sizes are unequal.\n",
            "  DeprecationWarning)\n"
          ],
          "name": "stderr"
        },
        {
          "output_type": "stream",
          "text": [
            "RandomizedSearchCV took 290.08 seconds for 20 candidates parameter settings.\n",
            "Model with rank: 1\n",
            "Mean validation score: 0.623 (std: 0.015)\n",
            "Parameters: {'bootstrap': False, 'criterion': 'entropy', 'max_depth': None, 'max_features': 6, 'min_samples_split': 4}\n",
            "\n",
            "Model with rank: 2\n",
            "Mean validation score: 0.622 (std: 0.014)\n",
            "Parameters: {'bootstrap': False, 'criterion': 'entropy', 'max_depth': None, 'max_features': 3, 'min_samples_split': 2}\n",
            "\n",
            "Model with rank: 3\n",
            "Mean validation score: 0.619 (std: 0.014)\n",
            "Parameters: {'bootstrap': False, 'criterion': 'entropy', 'max_depth': None, 'max_features': 7, 'min_samples_split': 3}\n",
            "\n"
          ],
          "name": "stdout"
        },
        {
          "output_type": "stream",
          "text": [
            "/usr/local/lib/python3.6/dist-packages/sklearn/model_selection/_split.py:652: Warning: The least populated class in y has only 1 members, which is too few. The minimum number of members in any class cannot be less than n_splits=5.\n",
            "  % (min_groups, self.n_splits)), Warning)\n",
            "/usr/local/lib/python3.6/dist-packages/sklearn/model_selection/_search.py:841: DeprecationWarning: The default of the `iid` parameter will change from True to False in version 0.22 and will be removed in 0.24. This will change numeric results when test-set sizes are unequal.\n",
            "  DeprecationWarning)\n"
          ],
          "name": "stderr"
        },
        {
          "output_type": "stream",
          "text": [
            "GridSearchCV took 985.59 seconds for 72 candidate parameter settings.\n",
            "Model with rank: 1\n",
            "Mean validation score: 0.639 (std: 0.017)\n",
            "Parameters: {'bootstrap': False, 'criterion': 'entropy', 'max_depth': None, 'max_features': 10, 'min_samples_split': 10}\n",
            "\n",
            "Model with rank: 2\n",
            "Mean validation score: 0.636 (std: 0.017)\n",
            "Parameters: {'bootstrap': False, 'criterion': 'gini', 'max_depth': None, 'max_features': 10, 'min_samples_split': 10}\n",
            "\n",
            "Model with rank: 3\n",
            "Mean validation score: 0.635 (std: 0.016)\n",
            "Parameters: {'bootstrap': False, 'criterion': 'gini', 'max_depth': None, 'max_features': 3, 'min_samples_split': 10}\n",
            "\n"
          ],
          "name": "stdout"
        }
      ]
    },
    {
      "metadata": {
        "id": "d2rUm2EvPuY4",
        "colab_type": "code",
        "outputId": "4b567004-0343-4937-9dfa-0f1c122fa6cc",
        "colab": {
          "base_uri": "https://localhost:8080/",
          "height": 34
        }
      },
      "cell_type": "code",
      "source": [
        "from sklearn.model_selection import RandomizedSearchCV\n",
        "\n",
        "# Number of trees in random forest\n",
        "n_estimators = [int(x) for x in np.linspace(start = 1, stop = 5, num = 5)]\n",
        "# Number of features to consider at every split\n",
        "max_features = ['auto', 'sqrt']\n",
        "# Maximum number of levels in tree\n",
        "max_depth = [int(x) for x in np.linspace(10, 200, num = 10)]\n",
        "max_depth.append(None)\n",
        "# Minimum number of samples required to split a node\n",
        "min_samples_split = [2, 5, 10]\n",
        "# Minimum number of samples required at each leaf node\n",
        "min_samples_leaf = [1, 2, 4]\n",
        "# Method of selecting samples for training each tree\n",
        "bootstrap = [True, False]\n",
        "\n",
        "# Create the random grid\n",
        "random_grid = {'n_estimators': n_estimators,\n",
        "               'max_features': max_features,\n",
        "               'max_depth': max_depth,\n",
        "               'min_samples_split': min_samples_split,\n",
        "               'min_samples_leaf': min_samples_leaf,\n",
        "               'bootstrap': bootstrap}\n",
        "\n",
        "print(random_grid)\n"
      ],
      "execution_count": 0,
      "outputs": [
        {
          "output_type": "stream",
          "text": [
            "{'n_estimators': [1, 2, 3, 4, 5], 'max_features': ['auto', 'sqrt'], 'max_depth': [10, 31, 52, 73, 94, 115, 136, 157, 178, 200, None], 'min_samples_split': [2, 5, 10], 'min_samples_leaf': [1, 2, 4], 'bootstrap': [True, False]}\n"
          ],
          "name": "stdout"
        }
      ]
    },
    {
      "metadata": {
        "id": "StTii5FyP76D",
        "colab_type": "code",
        "outputId": "e84549ea-6cda-4cbe-bc7e-2e4df17eeaf7",
        "colab": {
          "base_uri": "https://localhost:8080/",
          "height": 10577
        }
      },
      "cell_type": "code",
      "source": [
        "X_train, X_test, y_train, y_test = get_train_test()\n",
        "\n",
        "# Use the random grid to search for best hyperparameters\n",
        "# First create the base model to tune\n",
        "rf = RandomForestClassifier(random_state = 42)\n",
        "# Random search of parameters, using 3 fold cross validation, \n",
        "# search across 100 different combinations, and use all available cores\n",
        "rf_random = RandomizedSearchCV(estimator=rf, param_distributions=random_grid,\n",
        "                              n_iter = 100, scoring='neg_mean_absolute_error', \n",
        "                              cv = 3, verbose=2, random_state=42, n_jobs=1,\n",
        "                              return_train_score=True)\n",
        "\n",
        "# Fit the random search model\n",
        "rf_random.fit(X_train, y_train)"
      ],
      "execution_count": 0,
      "outputs": [
        {
          "output_type": "stream",
          "text": [
            "Fitting 3 folds for each of 100 candidates, totalling 300 fits\n"
          ],
          "name": "stdout"
        },
        {
          "output_type": "stream",
          "text": [
            "/usr/local/lib/python3.6/dist-packages/sklearn/model_selection/_split.py:652: Warning: The least populated class in y has only 1 members, which is too few. The minimum number of members in any class cannot be less than n_splits=3.\n",
            "  % (min_groups, self.n_splits)), Warning)\n",
            "[Parallel(n_jobs=1)]: Using backend SequentialBackend with 1 concurrent workers.\n"
          ],
          "name": "stderr"
        },
        {
          "output_type": "stream",
          "text": [
            "[CV] n_estimators=4, min_samples_split=2, min_samples_leaf=4, max_features=sqrt, max_depth=94, bootstrap=False \n",
            "[CV]  n_estimators=4, min_samples_split=2, min_samples_leaf=4, max_features=sqrt, max_depth=94, bootstrap=False, total=   3.7s\n",
            "[CV] n_estimators=4, min_samples_split=2, min_samples_leaf=4, max_features=sqrt, max_depth=94, bootstrap=False \n"
          ],
          "name": "stdout"
        },
        {
          "output_type": "stream",
          "text": [
            "[Parallel(n_jobs=1)]: Done   1 out of   1 | elapsed:    5.1s remaining:    0.0s\n"
          ],
          "name": "stderr"
        },
        {
          "output_type": "stream",
          "text": [
            "[CV]  n_estimators=4, min_samples_split=2, min_samples_leaf=4, max_features=sqrt, max_depth=94, bootstrap=False, total=   5.6s\n",
            "[CV] n_estimators=4, min_samples_split=2, min_samples_leaf=4, max_features=sqrt, max_depth=94, bootstrap=False \n",
            "[CV]  n_estimators=4, min_samples_split=2, min_samples_leaf=4, max_features=sqrt, max_depth=94, bootstrap=False, total=   5.6s\n",
            "[CV] n_estimators=2, min_samples_split=10, min_samples_leaf=1, max_features=sqrt, max_depth=10, bootstrap=True \n",
            "[CV]  n_estimators=2, min_samples_split=10, min_samples_leaf=1, max_features=sqrt, max_depth=10, bootstrap=True, total=   0.8s\n",
            "[CV] n_estimators=2, min_samples_split=10, min_samples_leaf=1, max_features=sqrt, max_depth=10, bootstrap=True \n",
            "[CV]  n_estimators=2, min_samples_split=10, min_samples_leaf=1, max_features=sqrt, max_depth=10, bootstrap=True, total=   1.4s\n",
            "[CV] n_estimators=2, min_samples_split=10, min_samples_leaf=1, max_features=sqrt, max_depth=10, bootstrap=True \n",
            "[CV]  n_estimators=2, min_samples_split=10, min_samples_leaf=1, max_features=sqrt, max_depth=10, bootstrap=True, total=   1.4s\n",
            "[CV] n_estimators=2, min_samples_split=5, min_samples_leaf=4, max_features=sqrt, max_depth=73, bootstrap=True \n",
            "[CV]  n_estimators=2, min_samples_split=5, min_samples_leaf=4, max_features=sqrt, max_depth=73, bootstrap=True, total=   1.4s\n",
            "[CV] n_estimators=2, min_samples_split=5, min_samples_leaf=4, max_features=sqrt, max_depth=73, bootstrap=True \n",
            "[CV]  n_estimators=2, min_samples_split=5, min_samples_leaf=4, max_features=sqrt, max_depth=73, bootstrap=True, total=   2.2s\n",
            "[CV] n_estimators=2, min_samples_split=5, min_samples_leaf=4, max_features=sqrt, max_depth=73, bootstrap=True \n",
            "[CV]  n_estimators=2, min_samples_split=5, min_samples_leaf=4, max_features=sqrt, max_depth=73, bootstrap=True, total=   2.3s\n",
            "[CV] n_estimators=2, min_samples_split=2, min_samples_leaf=2, max_features=sqrt, max_depth=157, bootstrap=False \n",
            "[CV]  n_estimators=2, min_samples_split=2, min_samples_leaf=2, max_features=sqrt, max_depth=157, bootstrap=False, total=   2.3s\n",
            "[CV] n_estimators=2, min_samples_split=2, min_samples_leaf=2, max_features=sqrt, max_depth=157, bootstrap=False \n",
            "[CV]  n_estimators=2, min_samples_split=2, min_samples_leaf=2, max_features=sqrt, max_depth=157, bootstrap=False, total=   3.5s\n",
            "[CV] n_estimators=2, min_samples_split=2, min_samples_leaf=2, max_features=sqrt, max_depth=157, bootstrap=False \n",
            "[CV]  n_estimators=2, min_samples_split=2, min_samples_leaf=2, max_features=sqrt, max_depth=157, bootstrap=False, total=   3.5s\n",
            "[CV] n_estimators=1, min_samples_split=5, min_samples_leaf=2, max_features=auto, max_depth=178, bootstrap=False \n",
            "[CV]  n_estimators=1, min_samples_split=5, min_samples_leaf=2, max_features=auto, max_depth=178, bootstrap=False, total=   1.1s\n",
            "[CV] n_estimators=1, min_samples_split=5, min_samples_leaf=2, max_features=auto, max_depth=178, bootstrap=False \n",
            "[CV]  n_estimators=1, min_samples_split=5, min_samples_leaf=2, max_features=auto, max_depth=178, bootstrap=False, total=   1.9s\n",
            "[CV] n_estimators=1, min_samples_split=5, min_samples_leaf=2, max_features=auto, max_depth=178, bootstrap=False \n",
            "[CV]  n_estimators=1, min_samples_split=5, min_samples_leaf=2, max_features=auto, max_depth=178, bootstrap=False, total=   1.8s\n",
            "[CV] n_estimators=4, min_samples_split=5, min_samples_leaf=4, max_features=sqrt, max_depth=178, bootstrap=False \n",
            "[CV]  n_estimators=4, min_samples_split=5, min_samples_leaf=4, max_features=sqrt, max_depth=178, bootstrap=False, total=   3.4s\n",
            "[CV] n_estimators=4, min_samples_split=5, min_samples_leaf=4, max_features=sqrt, max_depth=178, bootstrap=False \n",
            "[CV]  n_estimators=4, min_samples_split=5, min_samples_leaf=4, max_features=sqrt, max_depth=178, bootstrap=False, total=   5.5s\n",
            "[CV] n_estimators=4, min_samples_split=5, min_samples_leaf=4, max_features=sqrt, max_depth=178, bootstrap=False \n",
            "[CV]  n_estimators=4, min_samples_split=5, min_samples_leaf=4, max_features=sqrt, max_depth=178, bootstrap=False, total=   5.6s\n",
            "[CV] n_estimators=5, min_samples_split=10, min_samples_leaf=1, max_features=auto, max_depth=115, bootstrap=True \n",
            "[CV]  n_estimators=5, min_samples_split=10, min_samples_leaf=1, max_features=auto, max_depth=115, bootstrap=True, total=   3.5s\n",
            "[CV] n_estimators=5, min_samples_split=10, min_samples_leaf=1, max_features=auto, max_depth=115, bootstrap=True \n",
            "[CV]  n_estimators=5, min_samples_split=10, min_samples_leaf=1, max_features=auto, max_depth=115, bootstrap=True, total=   5.7s\n",
            "[CV] n_estimators=5, min_samples_split=10, min_samples_leaf=1, max_features=auto, max_depth=115, bootstrap=True \n",
            "[CV]  n_estimators=5, min_samples_split=10, min_samples_leaf=1, max_features=auto, max_depth=115, bootstrap=True, total=   5.7s\n",
            "[CV] n_estimators=5, min_samples_split=5, min_samples_leaf=1, max_features=sqrt, max_depth=94, bootstrap=True \n",
            "[CV]  n_estimators=5, min_samples_split=5, min_samples_leaf=1, max_features=sqrt, max_depth=94, bootstrap=True, total=   3.8s\n",
            "[CV] n_estimators=5, min_samples_split=5, min_samples_leaf=1, max_features=sqrt, max_depth=94, bootstrap=True \n",
            "[CV]  n_estimators=5, min_samples_split=5, min_samples_leaf=1, max_features=sqrt, max_depth=94, bootstrap=True, total=   6.5s\n",
            "[CV] n_estimators=5, min_samples_split=5, min_samples_leaf=1, max_features=sqrt, max_depth=94, bootstrap=True \n",
            "[CV]  n_estimators=5, min_samples_split=5, min_samples_leaf=1, max_features=sqrt, max_depth=94, bootstrap=True, total=   6.6s\n",
            "[CV] n_estimators=4, min_samples_split=2, min_samples_leaf=4, max_features=auto, max_depth=157, bootstrap=False \n",
            "[CV]  n_estimators=4, min_samples_split=2, min_samples_leaf=4, max_features=auto, max_depth=157, bootstrap=False, total=   3.4s\n",
            "[CV] n_estimators=4, min_samples_split=2, min_samples_leaf=4, max_features=auto, max_depth=157, bootstrap=False \n",
            "[CV]  n_estimators=4, min_samples_split=2, min_samples_leaf=4, max_features=auto, max_depth=157, bootstrap=False, total=   5.5s\n",
            "[CV] n_estimators=4, min_samples_split=2, min_samples_leaf=4, max_features=auto, max_depth=157, bootstrap=False \n",
            "[CV]  n_estimators=4, min_samples_split=2, min_samples_leaf=4, max_features=auto, max_depth=157, bootstrap=False, total=   5.6s\n",
            "[CV] n_estimators=5, min_samples_split=5, min_samples_leaf=2, max_features=sqrt, max_depth=10, bootstrap=True \n",
            "[CV]  n_estimators=5, min_samples_split=5, min_samples_leaf=2, max_features=sqrt, max_depth=10, bootstrap=True, total=   1.8s\n",
            "[CV] n_estimators=5, min_samples_split=5, min_samples_leaf=2, max_features=sqrt, max_depth=10, bootstrap=True \n",
            "[CV]  n_estimators=5, min_samples_split=5, min_samples_leaf=2, max_features=sqrt, max_depth=10, bootstrap=True, total=   3.2s\n",
            "[CV] n_estimators=5, min_samples_split=5, min_samples_leaf=2, max_features=sqrt, max_depth=10, bootstrap=True \n",
            "[CV]  n_estimators=5, min_samples_split=5, min_samples_leaf=2, max_features=sqrt, max_depth=10, bootstrap=True, total=   3.0s\n",
            "[CV] n_estimators=2, min_samples_split=5, min_samples_leaf=4, max_features=auto, max_depth=31, bootstrap=False \n",
            "[CV]  n_estimators=2, min_samples_split=5, min_samples_leaf=4, max_features=auto, max_depth=31, bootstrap=False, total=   1.8s\n",
            "[CV] n_estimators=2, min_samples_split=5, min_samples_leaf=4, max_features=auto, max_depth=31, bootstrap=False \n",
            "[CV]  n_estimators=2, min_samples_split=5, min_samples_leaf=4, max_features=auto, max_depth=31, bootstrap=False, total=   3.1s\n",
            "[CV] n_estimators=2, min_samples_split=5, min_samples_leaf=4, max_features=auto, max_depth=31, bootstrap=False \n",
            "[CV]  n_estimators=2, min_samples_split=5, min_samples_leaf=4, max_features=auto, max_depth=31, bootstrap=False, total=   3.0s\n",
            "[CV] n_estimators=4, min_samples_split=5, min_samples_leaf=4, max_features=sqrt, max_depth=10, bootstrap=False \n",
            "[CV]  n_estimators=4, min_samples_split=5, min_samples_leaf=4, max_features=sqrt, max_depth=10, bootstrap=False, total=   1.8s\n",
            "[CV] n_estimators=4, min_samples_split=5, min_samples_leaf=4, max_features=sqrt, max_depth=10, bootstrap=False \n",
            "[CV]  n_estimators=4, min_samples_split=5, min_samples_leaf=4, max_features=sqrt, max_depth=10, bootstrap=False, total=   3.0s\n",
            "[CV] n_estimators=4, min_samples_split=5, min_samples_leaf=4, max_features=sqrt, max_depth=10, bootstrap=False \n",
            "[CV]  n_estimators=4, min_samples_split=5, min_samples_leaf=4, max_features=sqrt, max_depth=10, bootstrap=False, total=   3.0s\n",
            "[CV] n_estimators=5, min_samples_split=10, min_samples_leaf=2, max_features=auto, max_depth=94, bootstrap=False \n",
            "[CV]  n_estimators=5, min_samples_split=10, min_samples_leaf=2, max_features=auto, max_depth=94, bootstrap=False, total=   4.5s\n",
            "[CV] n_estimators=5, min_samples_split=10, min_samples_leaf=2, max_features=auto, max_depth=94, bootstrap=False \n",
            "[CV]  n_estimators=5, min_samples_split=10, min_samples_leaf=2, max_features=auto, max_depth=94, bootstrap=False, total=   7.3s\n",
            "[CV] n_estimators=5, min_samples_split=10, min_samples_leaf=2, max_features=auto, max_depth=94, bootstrap=False \n",
            "[CV]  n_estimators=5, min_samples_split=10, min_samples_leaf=2, max_features=auto, max_depth=94, bootstrap=False, total=   8.3s\n",
            "[CV] n_estimators=3, min_samples_split=5, min_samples_leaf=2, max_features=sqrt, max_depth=52, bootstrap=True \n",
            "[CV]  n_estimators=3, min_samples_split=5, min_samples_leaf=2, max_features=sqrt, max_depth=52, bootstrap=True, total=   2.2s\n",
            "[CV] n_estimators=3, min_samples_split=5, min_samples_leaf=2, max_features=sqrt, max_depth=52, bootstrap=True \n",
            "[CV]  n_estimators=3, min_samples_split=5, min_samples_leaf=2, max_features=sqrt, max_depth=52, bootstrap=True, total=   3.7s\n",
            "[CV] n_estimators=3, min_samples_split=5, min_samples_leaf=2, max_features=sqrt, max_depth=52, bootstrap=True \n",
            "[CV]  n_estimators=3, min_samples_split=5, min_samples_leaf=2, max_features=sqrt, max_depth=52, bootstrap=True, total=   3.6s\n",
            "[CV] n_estimators=5, min_samples_split=10, min_samples_leaf=2, max_features=sqrt, max_depth=157, bootstrap=False \n",
            "[CV]  n_estimators=5, min_samples_split=10, min_samples_leaf=2, max_features=sqrt, max_depth=157, bootstrap=False, total=   4.4s\n",
            "[CV] n_estimators=5, min_samples_split=10, min_samples_leaf=2, max_features=sqrt, max_depth=157, bootstrap=False \n",
            "[CV]  n_estimators=5, min_samples_split=10, min_samples_leaf=2, max_features=sqrt, max_depth=157, bootstrap=False, total=   7.2s\n",
            "[CV] n_estimators=5, min_samples_split=10, min_samples_leaf=2, max_features=sqrt, max_depth=157, bootstrap=False \n",
            "[CV]  n_estimators=5, min_samples_split=10, min_samples_leaf=2, max_features=sqrt, max_depth=157, bootstrap=False, total=   7.4s\n",
            "[CV] n_estimators=2, min_samples_split=2, min_samples_leaf=2, max_features=auto, max_depth=115, bootstrap=False \n",
            "[CV]  n_estimators=2, min_samples_split=2, min_samples_leaf=2, max_features=auto, max_depth=115, bootstrap=False, total=   2.1s\n",
            "[CV] n_estimators=2, min_samples_split=2, min_samples_leaf=2, max_features=auto, max_depth=115, bootstrap=False \n",
            "[CV]  n_estimators=2, min_samples_split=2, min_samples_leaf=2, max_features=auto, max_depth=115, bootstrap=False, total=   3.4s\n",
            "[CV] n_estimators=2, min_samples_split=2, min_samples_leaf=2, max_features=auto, max_depth=115, bootstrap=False \n",
            "[CV]  n_estimators=2, min_samples_split=2, min_samples_leaf=2, max_features=auto, max_depth=115, bootstrap=False, total=   3.5s\n",
            "[CV] n_estimators=4, min_samples_split=10, min_samples_leaf=1, max_features=sqrt, max_depth=73, bootstrap=False \n",
            "[CV]  n_estimators=4, min_samples_split=10, min_samples_leaf=1, max_features=sqrt, max_depth=73, bootstrap=False, total=   3.9s\n",
            "[CV] n_estimators=4, min_samples_split=10, min_samples_leaf=1, max_features=sqrt, max_depth=73, bootstrap=False \n",
            "[CV]  n_estimators=4, min_samples_split=10, min_samples_leaf=1, max_features=sqrt, max_depth=73, bootstrap=False, total=   6.6s\n",
            "[CV] n_estimators=4, min_samples_split=10, min_samples_leaf=1, max_features=sqrt, max_depth=73, bootstrap=False \n",
            "[CV]  n_estimators=4, min_samples_split=10, min_samples_leaf=1, max_features=sqrt, max_depth=73, bootstrap=False, total=   6.7s\n",
            "[CV] n_estimators=3, min_samples_split=10, min_samples_leaf=2, max_features=auto, max_depth=31, bootstrap=False \n",
            "[CV]  n_estimators=3, min_samples_split=10, min_samples_leaf=2, max_features=auto, max_depth=31, bootstrap=False, total=   2.8s\n",
            "[CV] n_estimators=3, min_samples_split=10, min_samples_leaf=2, max_features=auto, max_depth=31, bootstrap=False \n",
            "[CV]  n_estimators=3, min_samples_split=10, min_samples_leaf=2, max_features=auto, max_depth=31, bootstrap=False, total=   4.6s\n",
            "[CV] n_estimators=3, min_samples_split=10, min_samples_leaf=2, max_features=auto, max_depth=31, bootstrap=False \n",
            "[CV]  n_estimators=3, min_samples_split=10, min_samples_leaf=2, max_features=auto, max_depth=31, bootstrap=False, total=   4.8s\n",
            "[CV] n_estimators=5, min_samples_split=5, min_samples_leaf=4, max_features=sqrt, max_depth=None, bootstrap=True \n",
            "[CV]  n_estimators=5, min_samples_split=5, min_samples_leaf=4, max_features=sqrt, max_depth=None, bootstrap=True, total=   3.2s\n",
            "[CV] n_estimators=5, min_samples_split=5, min_samples_leaf=4, max_features=sqrt, max_depth=None, bootstrap=True \n",
            "[CV]  n_estimators=5, min_samples_split=5, min_samples_leaf=4, max_features=sqrt, max_depth=None, bootstrap=True, total=   5.1s\n",
            "[CV] n_estimators=5, min_samples_split=5, min_samples_leaf=4, max_features=sqrt, max_depth=None, bootstrap=True \n",
            "[CV]  n_estimators=5, min_samples_split=5, min_samples_leaf=4, max_features=sqrt, max_depth=None, bootstrap=True, total=   5.1s\n",
            "[CV] n_estimators=3, min_samples_split=10, min_samples_leaf=4, max_features=auto, max_depth=136, bootstrap=True \n",
            "[CV]  n_estimators=3, min_samples_split=10, min_samples_leaf=4, max_features=auto, max_depth=136, bootstrap=True, total=   2.0s\n",
            "[CV] n_estimators=3, min_samples_split=10, min_samples_leaf=4, max_features=auto, max_depth=136, bootstrap=True \n",
            "[CV]  n_estimators=3, min_samples_split=10, min_samples_leaf=4, max_features=auto, max_depth=136, bootstrap=True, total=   3.1s\n",
            "[CV] n_estimators=3, min_samples_split=10, min_samples_leaf=4, max_features=auto, max_depth=136, bootstrap=True \n",
            "[CV]  n_estimators=3, min_samples_split=10, min_samples_leaf=4, max_features=auto, max_depth=136, bootstrap=True, total=   3.1s\n",
            "[CV] n_estimators=3, min_samples_split=10, min_samples_leaf=2, max_features=sqrt, max_depth=94, bootstrap=True \n",
            "[CV]  n_estimators=3, min_samples_split=10, min_samples_leaf=2, max_features=sqrt, max_depth=94, bootstrap=True, total=   2.2s\n",
            "[CV] n_estimators=3, min_samples_split=10, min_samples_leaf=2, max_features=sqrt, max_depth=94, bootstrap=True \n",
            "[CV]  n_estimators=3, min_samples_split=10, min_samples_leaf=2, max_features=sqrt, max_depth=94, bootstrap=True, total=   3.4s\n",
            "[CV] n_estimators=3, min_samples_split=10, min_samples_leaf=2, max_features=sqrt, max_depth=94, bootstrap=True \n",
            "[CV]  n_estimators=3, min_samples_split=10, min_samples_leaf=2, max_features=sqrt, max_depth=94, bootstrap=True, total=   3.4s\n",
            "[CV] n_estimators=3, min_samples_split=10, min_samples_leaf=1, max_features=auto, max_depth=115, bootstrap=True \n",
            "[CV]  n_estimators=3, min_samples_split=10, min_samples_leaf=1, max_features=auto, max_depth=115, bootstrap=True, total=   2.2s\n",
            "[CV] n_estimators=3, min_samples_split=10, min_samples_leaf=1, max_features=auto, max_depth=115, bootstrap=True \n",
            "[CV]  n_estimators=3, min_samples_split=10, min_samples_leaf=1, max_features=auto, max_depth=115, bootstrap=True, total=   3.5s\n",
            "[CV] n_estimators=3, min_samples_split=10, min_samples_leaf=1, max_features=auto, max_depth=115, bootstrap=True \n",
            "[CV]  n_estimators=3, min_samples_split=10, min_samples_leaf=1, max_features=auto, max_depth=115, bootstrap=True, total=   3.5s\n",
            "[CV] n_estimators=3, min_samples_split=2, min_samples_leaf=1, max_features=sqrt, max_depth=73, bootstrap=False \n",
            "[CV]  n_estimators=3, min_samples_split=2, min_samples_leaf=1, max_features=sqrt, max_depth=73, bootstrap=False, total=   3.8s\n",
            "[CV] n_estimators=3, min_samples_split=2, min_samples_leaf=1, max_features=sqrt, max_depth=73, bootstrap=False \n",
            "[CV]  n_estimators=3, min_samples_split=2, min_samples_leaf=1, max_features=sqrt, max_depth=73, bootstrap=False, total=   6.5s\n",
            "[CV] n_estimators=3, min_samples_split=2, min_samples_leaf=1, max_features=sqrt, max_depth=73, bootstrap=False \n",
            "[CV]  n_estimators=3, min_samples_split=2, min_samples_leaf=1, max_features=sqrt, max_depth=73, bootstrap=False, total=   6.5s\n",
            "[CV] n_estimators=2, min_samples_split=5, min_samples_leaf=4, max_features=sqrt, max_depth=31, bootstrap=False \n",
            "[CV]  n_estimators=2, min_samples_split=5, min_samples_leaf=4, max_features=sqrt, max_depth=31, bootstrap=False, total=   1.7s\n",
            "[CV] n_estimators=2, min_samples_split=5, min_samples_leaf=4, max_features=sqrt, max_depth=31, bootstrap=False \n",
            "[CV]  n_estimators=2, min_samples_split=5, min_samples_leaf=4, max_features=sqrt, max_depth=31, bootstrap=False, total=   3.0s\n",
            "[CV] n_estimators=2, min_samples_split=5, min_samples_leaf=4, max_features=sqrt, max_depth=31, bootstrap=False \n",
            "[CV]  n_estimators=2, min_samples_split=5, min_samples_leaf=4, max_features=sqrt, max_depth=31, bootstrap=False, total=   3.0s\n",
            "[CV] n_estimators=1, min_samples_split=2, min_samples_leaf=4, max_features=auto, max_depth=52, bootstrap=False \n",
            "[CV]  n_estimators=1, min_samples_split=2, min_samples_leaf=4, max_features=auto, max_depth=52, bootstrap=False, total=   0.9s\n",
            "[CV] n_estimators=1, min_samples_split=2, min_samples_leaf=4, max_features=auto, max_depth=52, bootstrap=False \n",
            "[CV]  n_estimators=1, min_samples_split=2, min_samples_leaf=4, max_features=auto, max_depth=52, bootstrap=False, total=   1.5s\n",
            "[CV] n_estimators=1, min_samples_split=2, min_samples_leaf=4, max_features=auto, max_depth=52, bootstrap=False \n",
            "[CV]  n_estimators=1, min_samples_split=2, min_samples_leaf=4, max_features=auto, max_depth=52, bootstrap=False, total=   1.6s\n",
            "[CV] n_estimators=4, min_samples_split=5, min_samples_leaf=4, max_features=sqrt, max_depth=115, bootstrap=False \n",
            "[CV]  n_estimators=4, min_samples_split=5, min_samples_leaf=4, max_features=sqrt, max_depth=115, bootstrap=False, total=   3.4s\n",
            "[CV] n_estimators=4, min_samples_split=5, min_samples_leaf=4, max_features=sqrt, max_depth=115, bootstrap=False \n",
            "[CV]  n_estimators=4, min_samples_split=5, min_samples_leaf=4, max_features=sqrt, max_depth=115, bootstrap=False, total=   5.5s\n",
            "[CV] n_estimators=4, min_samples_split=5, min_samples_leaf=4, max_features=sqrt, max_depth=115, bootstrap=False \n",
            "[CV]  n_estimators=4, min_samples_split=5, min_samples_leaf=4, max_features=sqrt, max_depth=115, bootstrap=False, total=   5.6s\n",
            "[CV] n_estimators=5, min_samples_split=10, min_samples_leaf=4, max_features=sqrt, max_depth=178, bootstrap=True \n",
            "[CV]  n_estimators=5, min_samples_split=10, min_samples_leaf=4, max_features=sqrt, max_depth=178, bootstrap=True, total=   3.1s\n",
            "[CV] n_estimators=5, min_samples_split=10, min_samples_leaf=4, max_features=sqrt, max_depth=178, bootstrap=True \n",
            "[CV]  n_estimators=5, min_samples_split=10, min_samples_leaf=4, max_features=sqrt, max_depth=178, bootstrap=True, total=   5.0s\n",
            "[CV] n_estimators=5, min_samples_split=10, min_samples_leaf=4, max_features=sqrt, max_depth=178, bootstrap=True \n",
            "[CV]  n_estimators=5, min_samples_split=10, min_samples_leaf=4, max_features=sqrt, max_depth=178, bootstrap=True, total=   5.0s\n",
            "[CV] n_estimators=3, min_samples_split=2, min_samples_leaf=4, max_features=sqrt, max_depth=115, bootstrap=False \n",
            "[CV]  n_estimators=3, min_samples_split=2, min_samples_leaf=4, max_features=sqrt, max_depth=115, bootstrap=False, total=   2.6s\n",
            "[CV] n_estimators=3, min_samples_split=2, min_samples_leaf=4, max_features=sqrt, max_depth=115, bootstrap=False \n",
            "[CV]  n_estimators=3, min_samples_split=2, min_samples_leaf=4, max_features=sqrt, max_depth=115, bootstrap=False, total=   4.2s\n",
            "[CV] n_estimators=3, min_samples_split=2, min_samples_leaf=4, max_features=sqrt, max_depth=115, bootstrap=False \n",
            "[CV]  n_estimators=3, min_samples_split=2, min_samples_leaf=4, max_features=sqrt, max_depth=115, bootstrap=False, total=   4.3s\n",
            "[CV] n_estimators=4, min_samples_split=5, min_samples_leaf=1, max_features=auto, max_depth=136, bootstrap=True \n",
            "[CV]  n_estimators=4, min_samples_split=5, min_samples_leaf=1, max_features=auto, max_depth=136, bootstrap=True, total=   3.1s\n",
            "[CV] n_estimators=4, min_samples_split=5, min_samples_leaf=1, max_features=auto, max_depth=136, bootstrap=True \n",
            "[CV]  n_estimators=4, min_samples_split=5, min_samples_leaf=1, max_features=auto, max_depth=136, bootstrap=True, total=   5.2s\n",
            "[CV] n_estimators=4, min_samples_split=5, min_samples_leaf=1, max_features=auto, max_depth=136, bootstrap=True \n",
            "[CV]  n_estimators=4, min_samples_split=5, min_samples_leaf=1, max_features=auto, max_depth=136, bootstrap=True, total=   5.3s\n",
            "[CV] n_estimators=1, min_samples_split=10, min_samples_leaf=1, max_features=auto, max_depth=157, bootstrap=False \n",
            "[CV]  n_estimators=1, min_samples_split=10, min_samples_leaf=1, max_features=auto, max_depth=157, bootstrap=False, total=   1.1s\n",
            "[CV] n_estimators=1, min_samples_split=10, min_samples_leaf=1, max_features=auto, max_depth=157, bootstrap=False \n",
            "[CV]  n_estimators=1, min_samples_split=10, min_samples_leaf=1, max_features=auto, max_depth=157, bootstrap=False, total=   1.8s\n",
            "[CV] n_estimators=1, min_samples_split=10, min_samples_leaf=1, max_features=auto, max_depth=157, bootstrap=False \n",
            "[CV]  n_estimators=1, min_samples_split=10, min_samples_leaf=1, max_features=auto, max_depth=157, bootstrap=False, total=   1.8s\n",
            "[CV] n_estimators=2, min_samples_split=5, min_samples_leaf=1, max_features=sqrt, max_depth=52, bootstrap=True \n",
            "[CV]  n_estimators=2, min_samples_split=5, min_samples_leaf=1, max_features=sqrt, max_depth=52, bootstrap=True, total=   1.6s\n",
            "[CV] n_estimators=2, min_samples_split=5, min_samples_leaf=1, max_features=sqrt, max_depth=52, bootstrap=True \n",
            "[CV]  n_estimators=2, min_samples_split=5, min_samples_leaf=1, max_features=sqrt, max_depth=52, bootstrap=True, total=   2.7s\n",
            "[CV] n_estimators=2, min_samples_split=5, min_samples_leaf=1, max_features=sqrt, max_depth=52, bootstrap=True \n",
            "[CV]  n_estimators=2, min_samples_split=5, min_samples_leaf=1, max_features=sqrt, max_depth=52, bootstrap=True, total=   2.8s\n",
            "[CV] n_estimators=4, min_samples_split=2, min_samples_leaf=2, max_features=sqrt, max_depth=157, bootstrap=True \n",
            "[CV]  n_estimators=4, min_samples_split=2, min_samples_leaf=2, max_features=sqrt, max_depth=157, bootstrap=True, total=   3.0s\n",
            "[CV] n_estimators=4, min_samples_split=2, min_samples_leaf=2, max_features=sqrt, max_depth=157, bootstrap=True \n",
            "[CV]  n_estimators=4, min_samples_split=2, min_samples_leaf=2, max_features=sqrt, max_depth=157, bootstrap=True, total=   4.9s\n",
            "[CV] n_estimators=4, min_samples_split=2, min_samples_leaf=2, max_features=sqrt, max_depth=157, bootstrap=True \n",
            "[CV]  n_estimators=4, min_samples_split=2, min_samples_leaf=2, max_features=sqrt, max_depth=157, bootstrap=True, total=   5.1s\n",
            "[CV] n_estimators=1, min_samples_split=10, min_samples_leaf=4, max_features=sqrt, max_depth=94, bootstrap=False \n",
            "[CV]  n_estimators=1, min_samples_split=10, min_samples_leaf=4, max_features=sqrt, max_depth=94, bootstrap=False, total=   0.9s\n",
            "[CV] n_estimators=1, min_samples_split=10, min_samples_leaf=4, max_features=sqrt, max_depth=94, bootstrap=False \n",
            "[CV]  n_estimators=1, min_samples_split=10, min_samples_leaf=4, max_features=sqrt, max_depth=94, bootstrap=False, total=   1.5s\n",
            "[CV] n_estimators=1, min_samples_split=10, min_samples_leaf=4, max_features=sqrt, max_depth=94, bootstrap=False \n",
            "[CV]  n_estimators=1, min_samples_split=10, min_samples_leaf=4, max_features=sqrt, max_depth=94, bootstrap=False, total=   1.6s\n",
            "[CV] n_estimators=4, min_samples_split=5, min_samples_leaf=1, max_features=auto, max_depth=136, bootstrap=False \n",
            "[CV]  n_estimators=4, min_samples_split=5, min_samples_leaf=1, max_features=auto, max_depth=136, bootstrap=False, total=   4.3s\n",
            "[CV] n_estimators=4, min_samples_split=5, min_samples_leaf=1, max_features=auto, max_depth=136, bootstrap=False \n",
            "[CV]  n_estimators=4, min_samples_split=5, min_samples_leaf=1, max_features=auto, max_depth=136, bootstrap=False, total=   7.2s\n",
            "[CV] n_estimators=4, min_samples_split=5, min_samples_leaf=1, max_features=auto, max_depth=136, bootstrap=False \n",
            "[CV]  n_estimators=4, min_samples_split=5, min_samples_leaf=1, max_features=auto, max_depth=136, bootstrap=False, total=   7.3s\n",
            "[CV] n_estimators=2, min_samples_split=2, min_samples_leaf=2, max_features=sqrt, max_depth=178, bootstrap=True \n",
            "[CV]  n_estimators=2, min_samples_split=2, min_samples_leaf=2, max_features=sqrt, max_depth=178, bootstrap=True, total=   1.6s\n",
            "[CV] n_estimators=2, min_samples_split=2, min_samples_leaf=2, max_features=sqrt, max_depth=178, bootstrap=True \n",
            "[CV]  n_estimators=2, min_samples_split=2, min_samples_leaf=2, max_features=sqrt, max_depth=178, bootstrap=True, total=   2.5s\n",
            "[CV] n_estimators=2, min_samples_split=2, min_samples_leaf=2, max_features=sqrt, max_depth=178, bootstrap=True \n",
            "[CV]  n_estimators=2, min_samples_split=2, min_samples_leaf=2, max_features=sqrt, max_depth=178, bootstrap=True, total=   2.7s\n",
            "[CV] n_estimators=1, min_samples_split=5, min_samples_leaf=4, max_features=auto, max_depth=73, bootstrap=True \n",
            "[CV]  n_estimators=1, min_samples_split=5, min_samples_leaf=4, max_features=auto, max_depth=73, bootstrap=True, total=   0.7s\n",
            "[CV] n_estimators=1, min_samples_split=5, min_samples_leaf=4, max_features=auto, max_depth=73, bootstrap=True \n",
            "[CV]  n_estimators=1, min_samples_split=5, min_samples_leaf=4, max_features=auto, max_depth=73, bootstrap=True, total=   1.2s\n",
            "[CV] n_estimators=1, min_samples_split=5, min_samples_leaf=4, max_features=auto, max_depth=73, bootstrap=True \n",
            "[CV]  n_estimators=1, min_samples_split=5, min_samples_leaf=4, max_features=auto, max_depth=73, bootstrap=True, total=   1.2s\n",
            "[CV] n_estimators=1, min_samples_split=5, min_samples_leaf=1, max_features=sqrt, max_depth=10, bootstrap=False \n",
            "[CV]  n_estimators=1, min_samples_split=5, min_samples_leaf=1, max_features=sqrt, max_depth=10, bootstrap=False, total=   0.5s\n",
            "[CV] n_estimators=1, min_samples_split=5, min_samples_leaf=1, max_features=sqrt, max_depth=10, bootstrap=False \n",
            "[CV]  n_estimators=1, min_samples_split=5, min_samples_leaf=1, max_features=sqrt, max_depth=10, bootstrap=False, total=   0.9s\n",
            "[CV] n_estimators=1, min_samples_split=5, min_samples_leaf=1, max_features=sqrt, max_depth=10, bootstrap=False \n",
            "[CV]  n_estimators=1, min_samples_split=5, min_samples_leaf=1, max_features=sqrt, max_depth=10, bootstrap=False, total=   0.9s\n",
            "[CV] n_estimators=5, min_samples_split=5, min_samples_leaf=4, max_features=auto, max_depth=136, bootstrap=True \n",
            "[CV]  n_estimators=5, min_samples_split=5, min_samples_leaf=4, max_features=auto, max_depth=136, bootstrap=True, total=   3.2s\n",
            "[CV] n_estimators=5, min_samples_split=5, min_samples_leaf=4, max_features=auto, max_depth=136, bootstrap=True \n",
            "[CV]  n_estimators=5, min_samples_split=5, min_samples_leaf=4, max_features=auto, max_depth=136, bootstrap=True, total=   5.1s\n",
            "[CV] n_estimators=5, min_samples_split=5, min_samples_leaf=4, max_features=auto, max_depth=136, bootstrap=True \n",
            "[CV]  n_estimators=5, min_samples_split=5, min_samples_leaf=4, max_features=auto, max_depth=136, bootstrap=True, total=   5.1s\n",
            "[CV] n_estimators=2, min_samples_split=10, min_samples_leaf=2, max_features=auto, max_depth=None, bootstrap=True \n",
            "[CV]  n_estimators=2, min_samples_split=10, min_samples_leaf=2, max_features=auto, max_depth=None, bootstrap=True, total=   1.5s\n",
            "[CV] n_estimators=2, min_samples_split=10, min_samples_leaf=2, max_features=auto, max_depth=None, bootstrap=True \n",
            "[CV]  n_estimators=2, min_samples_split=10, min_samples_leaf=2, max_features=auto, max_depth=None, bootstrap=True, total=   2.2s\n",
            "[CV] n_estimators=2, min_samples_split=10, min_samples_leaf=2, max_features=auto, max_depth=None, bootstrap=True \n",
            "[CV]  n_estimators=2, min_samples_split=10, min_samples_leaf=2, max_features=auto, max_depth=None, bootstrap=True, total=   2.3s\n",
            "[CV] n_estimators=1, min_samples_split=10, min_samples_leaf=2, max_features=sqrt, max_depth=10, bootstrap=True \n",
            "[CV]  n_estimators=1, min_samples_split=10, min_samples_leaf=2, max_features=sqrt, max_depth=10, bootstrap=True, total=   0.4s\n",
            "[CV] n_estimators=1, min_samples_split=10, min_samples_leaf=2, max_features=sqrt, max_depth=10, bootstrap=True \n",
            "[CV]  n_estimators=1, min_samples_split=10, min_samples_leaf=2, max_features=sqrt, max_depth=10, bootstrap=True, total=   0.8s\n",
            "[CV] n_estimators=1, min_samples_split=10, min_samples_leaf=2, max_features=sqrt, max_depth=10, bootstrap=True \n",
            "[CV]  n_estimators=1, min_samples_split=10, min_samples_leaf=2, max_features=sqrt, max_depth=10, bootstrap=True, total=   0.8s\n",
            "[CV] n_estimators=4, min_samples_split=5, min_samples_leaf=4, max_features=auto, max_depth=31, bootstrap=True \n",
            "[CV]  n_estimators=4, min_samples_split=5, min_samples_leaf=4, max_features=auto, max_depth=31, bootstrap=True, total=   2.6s\n",
            "[CV] n_estimators=4, min_samples_split=5, min_samples_leaf=4, max_features=auto, max_depth=31, bootstrap=True \n",
            "[CV]  n_estimators=4, min_samples_split=5, min_samples_leaf=4, max_features=auto, max_depth=31, bootstrap=True, total=   4.1s\n",
            "[CV] n_estimators=4, min_samples_split=5, min_samples_leaf=4, max_features=auto, max_depth=31, bootstrap=True \n",
            "[CV]  n_estimators=4, min_samples_split=5, min_samples_leaf=4, max_features=auto, max_depth=31, bootstrap=True, total=   4.1s\n",
            "[CV] n_estimators=2, min_samples_split=2, min_samples_leaf=2, max_features=auto, max_depth=136, bootstrap=False \n",
            "[CV]  n_estimators=2, min_samples_split=2, min_samples_leaf=2, max_features=auto, max_depth=136, bootstrap=False, total=   2.1s\n",
            "[CV] n_estimators=2, min_samples_split=2, min_samples_leaf=2, max_features=auto, max_depth=136, bootstrap=False \n",
            "[CV]  n_estimators=2, min_samples_split=2, min_samples_leaf=2, max_features=auto, max_depth=136, bootstrap=False, total=   3.4s\n",
            "[CV] n_estimators=2, min_samples_split=2, min_samples_leaf=2, max_features=auto, max_depth=136, bootstrap=False \n",
            "[CV]  n_estimators=2, min_samples_split=2, min_samples_leaf=2, max_features=auto, max_depth=136, bootstrap=False, total=   3.5s\n",
            "[CV] n_estimators=3, min_samples_split=5, min_samples_leaf=1, max_features=sqrt, max_depth=None, bootstrap=False \n",
            "[CV]  n_estimators=3, min_samples_split=5, min_samples_leaf=1, max_features=sqrt, max_depth=None, bootstrap=False, total=   3.3s\n",
            "[CV] n_estimators=3, min_samples_split=5, min_samples_leaf=1, max_features=sqrt, max_depth=None, bootstrap=False \n",
            "[CV]  n_estimators=3, min_samples_split=5, min_samples_leaf=1, max_features=sqrt, max_depth=None, bootstrap=False, total=   5.5s\n",
            "[CV] n_estimators=3, min_samples_split=5, min_samples_leaf=1, max_features=sqrt, max_depth=None, bootstrap=False \n",
            "[CV]  n_estimators=3, min_samples_split=5, min_samples_leaf=1, max_features=sqrt, max_depth=None, bootstrap=False, total=   5.6s\n",
            "[CV] n_estimators=2, min_samples_split=10, min_samples_leaf=4, max_features=auto, max_depth=52, bootstrap=False \n",
            "[CV]  n_estimators=2, min_samples_split=10, min_samples_leaf=4, max_features=auto, max_depth=52, bootstrap=False, total=   1.7s\n",
            "[CV] n_estimators=2, min_samples_split=10, min_samples_leaf=4, max_features=auto, max_depth=52, bootstrap=False \n",
            "[CV]  n_estimators=2, min_samples_split=10, min_samples_leaf=4, max_features=auto, max_depth=52, bootstrap=False, total=   2.9s\n",
            "[CV] n_estimators=2, min_samples_split=10, min_samples_leaf=4, max_features=auto, max_depth=52, bootstrap=False \n",
            "[CV]  n_estimators=2, min_samples_split=10, min_samples_leaf=4, max_features=auto, max_depth=52, bootstrap=False, total=   2.9s\n",
            "[CV] n_estimators=1, min_samples_split=2, min_samples_leaf=4, max_features=auto, max_depth=94, bootstrap=False \n",
            "[CV]  n_estimators=1, min_samples_split=2, min_samples_leaf=4, max_features=auto, max_depth=94, bootstrap=False, total=   1.0s\n",
            "[CV] n_estimators=1, min_samples_split=2, min_samples_leaf=4, max_features=auto, max_depth=94, bootstrap=False \n",
            "[CV]  n_estimators=1, min_samples_split=2, min_samples_leaf=4, max_features=auto, max_depth=94, bootstrap=False, total=   1.6s\n",
            "[CV] n_estimators=1, min_samples_split=2, min_samples_leaf=4, max_features=auto, max_depth=94, bootstrap=False \n",
            "[CV]  n_estimators=1, min_samples_split=2, min_samples_leaf=4, max_features=auto, max_depth=94, bootstrap=False, total=   1.6s\n",
            "[CV] n_estimators=2, min_samples_split=5, min_samples_leaf=4, max_features=auto, max_depth=None, bootstrap=True \n",
            "[CV]  n_estimators=2, min_samples_split=5, min_samples_leaf=4, max_features=auto, max_depth=None, bootstrap=True, total=   1.4s\n",
            "[CV] n_estimators=2, min_samples_split=5, min_samples_leaf=4, max_features=auto, max_depth=None, bootstrap=True \n",
            "[CV]  n_estimators=2, min_samples_split=5, min_samples_leaf=4, max_features=auto, max_depth=None, bootstrap=True, total=   2.1s\n",
            "[CV] n_estimators=2, min_samples_split=5, min_samples_leaf=4, max_features=auto, max_depth=None, bootstrap=True \n",
            "[CV]  n_estimators=2, min_samples_split=5, min_samples_leaf=4, max_features=auto, max_depth=None, bootstrap=True, total=   2.1s\n",
            "[CV] n_estimators=3, min_samples_split=5, min_samples_leaf=4, max_features=sqrt, max_depth=None, bootstrap=False \n",
            "[CV]  n_estimators=3, min_samples_split=5, min_samples_leaf=4, max_features=sqrt, max_depth=None, bootstrap=False, total=   2.6s\n",
            "[CV] n_estimators=3, min_samples_split=5, min_samples_leaf=4, max_features=sqrt, max_depth=None, bootstrap=False \n",
            "[CV]  n_estimators=3, min_samples_split=5, min_samples_leaf=4, max_features=sqrt, max_depth=None, bootstrap=False, total=   4.3s\n",
            "[CV] n_estimators=3, min_samples_split=5, min_samples_leaf=4, max_features=sqrt, max_depth=None, bootstrap=False \n",
            "[CV]  n_estimators=3, min_samples_split=5, min_samples_leaf=4, max_features=sqrt, max_depth=None, bootstrap=False, total=   4.3s\n",
            "[CV] n_estimators=5, min_samples_split=10, min_samples_leaf=1, max_features=auto, max_depth=73, bootstrap=False \n",
            "[CV]  n_estimators=5, min_samples_split=10, min_samples_leaf=1, max_features=auto, max_depth=73, bootstrap=False, total=   4.8s\n",
            "[CV] n_estimators=5, min_samples_split=10, min_samples_leaf=1, max_features=auto, max_depth=73, bootstrap=False \n",
            "[CV]  n_estimators=5, min_samples_split=10, min_samples_leaf=1, max_features=auto, max_depth=73, bootstrap=False, total=   8.1s\n",
            "[CV] n_estimators=5, min_samples_split=10, min_samples_leaf=1, max_features=auto, max_depth=73, bootstrap=False \n",
            "[CV]  n_estimators=5, min_samples_split=10, min_samples_leaf=1, max_features=auto, max_depth=73, bootstrap=False, total=   8.3s\n",
            "[CV] n_estimators=1, min_samples_split=2, min_samples_leaf=1, max_features=auto, max_depth=52, bootstrap=False \n",
            "[CV]  n_estimators=1, min_samples_split=2, min_samples_leaf=1, max_features=auto, max_depth=52, bootstrap=False, total=   1.3s\n",
            "[CV] n_estimators=1, min_samples_split=2, min_samples_leaf=1, max_features=auto, max_depth=52, bootstrap=False \n",
            "[CV]  n_estimators=1, min_samples_split=2, min_samples_leaf=1, max_features=auto, max_depth=52, bootstrap=False, total=   2.3s\n",
            "[CV] n_estimators=1, min_samples_split=2, min_samples_leaf=1, max_features=auto, max_depth=52, bootstrap=False \n",
            "[CV]  n_estimators=1, min_samples_split=2, min_samples_leaf=1, max_features=auto, max_depth=52, bootstrap=False, total=   2.3s\n",
            "[CV] n_estimators=3, min_samples_split=5, min_samples_leaf=4, max_features=auto, max_depth=73, bootstrap=True \n",
            "[CV]  n_estimators=3, min_samples_split=5, min_samples_leaf=4, max_features=auto, max_depth=73, bootstrap=True, total=   2.0s\n",
            "[CV] n_estimators=3, min_samples_split=5, min_samples_leaf=4, max_features=auto, max_depth=73, bootstrap=True \n",
            "[CV]  n_estimators=3, min_samples_split=5, min_samples_leaf=4, max_features=auto, max_depth=73, bootstrap=True, total=   3.1s\n",
            "[CV] n_estimators=3, min_samples_split=5, min_samples_leaf=4, max_features=auto, max_depth=73, bootstrap=True \n",
            "[CV]  n_estimators=3, min_samples_split=5, min_samples_leaf=4, max_features=auto, max_depth=73, bootstrap=True, total=   3.1s\n",
            "[CV] n_estimators=1, min_samples_split=5, min_samples_leaf=2, max_features=auto, max_depth=73, bootstrap=False \n",
            "[CV]  n_estimators=1, min_samples_split=5, min_samples_leaf=2, max_features=auto, max_depth=73, bootstrap=False, total=   1.2s\n",
            "[CV] n_estimators=1, min_samples_split=5, min_samples_leaf=2, max_features=auto, max_depth=73, bootstrap=False \n",
            "[CV]  n_estimators=1, min_samples_split=5, min_samples_leaf=2, max_features=auto, max_depth=73, bootstrap=False, total=   1.9s\n",
            "[CV] n_estimators=1, min_samples_split=5, min_samples_leaf=2, max_features=auto, max_depth=73, bootstrap=False \n",
            "[CV]  n_estimators=1, min_samples_split=5, min_samples_leaf=2, max_features=auto, max_depth=73, bootstrap=False, total=   1.8s\n",
            "[CV] n_estimators=2, min_samples_split=2, min_samples_leaf=4, max_features=sqrt, max_depth=178, bootstrap=False \n",
            "[CV]  n_estimators=2, min_samples_split=2, min_samples_leaf=4, max_features=sqrt, max_depth=178, bootstrap=False, total=   1.8s\n",
            "[CV] n_estimators=2, min_samples_split=2, min_samples_leaf=4, max_features=sqrt, max_depth=178, bootstrap=False \n",
            "[CV]  n_estimators=2, min_samples_split=2, min_samples_leaf=4, max_features=sqrt, max_depth=178, bootstrap=False, total=   3.0s\n",
            "[CV] n_estimators=2, min_samples_split=2, min_samples_leaf=4, max_features=sqrt, max_depth=178, bootstrap=False \n",
            "[CV]  n_estimators=2, min_samples_split=2, min_samples_leaf=4, max_features=sqrt, max_depth=178, bootstrap=False, total=   2.9s\n",
            "[CV] n_estimators=2, min_samples_split=10, min_samples_leaf=1, max_features=auto, max_depth=52, bootstrap=False \n",
            "[CV]  n_estimators=2, min_samples_split=10, min_samples_leaf=1, max_features=auto, max_depth=52, bootstrap=False, total=   2.0s\n",
            "[CV] n_estimators=2, min_samples_split=10, min_samples_leaf=1, max_features=auto, max_depth=52, bootstrap=False \n",
            "[CV]  n_estimators=2, min_samples_split=10, min_samples_leaf=1, max_features=auto, max_depth=52, bootstrap=False, total=   3.4s\n",
            "[CV] n_estimators=2, min_samples_split=10, min_samples_leaf=1, max_features=auto, max_depth=52, bootstrap=False \n",
            "[CV]  n_estimators=2, min_samples_split=10, min_samples_leaf=1, max_features=auto, max_depth=52, bootstrap=False, total=   3.4s\n",
            "[CV] n_estimators=4, min_samples_split=2, min_samples_leaf=1, max_features=auto, max_depth=157, bootstrap=False \n",
            "[CV]  n_estimators=4, min_samples_split=2, min_samples_leaf=1, max_features=auto, max_depth=157, bootstrap=False, total=   5.0s\n",
            "[CV] n_estimators=4, min_samples_split=2, min_samples_leaf=1, max_features=auto, max_depth=157, bootstrap=False \n",
            "[CV]  n_estimators=4, min_samples_split=2, min_samples_leaf=1, max_features=auto, max_depth=157, bootstrap=False, total=   8.5s\n",
            "[CV] n_estimators=4, min_samples_split=2, min_samples_leaf=1, max_features=auto, max_depth=157, bootstrap=False \n",
            "[CV]  n_estimators=4, min_samples_split=2, min_samples_leaf=1, max_features=auto, max_depth=157, bootstrap=False, total=   8.5s\n",
            "[CV] n_estimators=3, min_samples_split=10, min_samples_leaf=4, max_features=auto, max_depth=None, bootstrap=True \n",
            "[CV]  n_estimators=3, min_samples_split=10, min_samples_leaf=4, max_features=auto, max_depth=None, bootstrap=True, total=   2.0s\n",
            "[CV] n_estimators=3, min_samples_split=10, min_samples_leaf=4, max_features=auto, max_depth=None, bootstrap=True \n",
            "[CV]  n_estimators=3, min_samples_split=10, min_samples_leaf=4, max_features=auto, max_depth=None, bootstrap=True, total=   3.2s\n",
            "[CV] n_estimators=3, min_samples_split=10, min_samples_leaf=4, max_features=auto, max_depth=None, bootstrap=True \n",
            "[CV]  n_estimators=3, min_samples_split=10, min_samples_leaf=4, max_features=auto, max_depth=None, bootstrap=True, total=   3.1s\n",
            "[CV] n_estimators=5, min_samples_split=2, min_samples_leaf=1, max_features=sqrt, max_depth=None, bootstrap=True \n",
            "[CV]  n_estimators=5, min_samples_split=2, min_samples_leaf=1, max_features=sqrt, max_depth=None, bootstrap=True, total=   4.3s\n",
            "[CV] n_estimators=5, min_samples_split=2, min_samples_leaf=1, max_features=sqrt, max_depth=None, bootstrap=True \n",
            "[CV]  n_estimators=5, min_samples_split=2, min_samples_leaf=1, max_features=sqrt, max_depth=None, bootstrap=True, total=   7.0s\n",
            "[CV] n_estimators=5, min_samples_split=2, min_samples_leaf=1, max_features=sqrt, max_depth=None, bootstrap=True \n",
            "[CV]  n_estimators=5, min_samples_split=2, min_samples_leaf=1, max_features=sqrt, max_depth=None, bootstrap=True, total=   7.1s\n",
            "[CV] n_estimators=4, min_samples_split=2, min_samples_leaf=4, max_features=sqrt, max_depth=136, bootstrap=True \n",
            "[CV]  n_estimators=4, min_samples_split=2, min_samples_leaf=4, max_features=sqrt, max_depth=136, bootstrap=True, total=   2.6s\n",
            "[CV] n_estimators=4, min_samples_split=2, min_samples_leaf=4, max_features=sqrt, max_depth=136, bootstrap=True \n",
            "[CV]  n_estimators=4, min_samples_split=2, min_samples_leaf=4, max_features=sqrt, max_depth=136, bootstrap=True, total=   4.1s\n",
            "[CV] n_estimators=4, min_samples_split=2, min_samples_leaf=4, max_features=sqrt, max_depth=136, bootstrap=True \n",
            "[CV]  n_estimators=4, min_samples_split=2, min_samples_leaf=4, max_features=sqrt, max_depth=136, bootstrap=True, total=   4.1s\n",
            "[CV] n_estimators=5, min_samples_split=2, min_samples_leaf=1, max_features=sqrt, max_depth=200, bootstrap=False \n",
            "[CV]  n_estimators=5, min_samples_split=2, min_samples_leaf=1, max_features=sqrt, max_depth=200, bootstrap=False, total=   6.2s\n",
            "[CV] n_estimators=5, min_samples_split=2, min_samples_leaf=1, max_features=sqrt, max_depth=200, bootstrap=False \n",
            "[CV]  n_estimators=5, min_samples_split=2, min_samples_leaf=1, max_features=sqrt, max_depth=200, bootstrap=False, total=  10.5s\n",
            "[CV] n_estimators=5, min_samples_split=2, min_samples_leaf=1, max_features=sqrt, max_depth=200, bootstrap=False \n",
            "[CV]  n_estimators=5, min_samples_split=2, min_samples_leaf=1, max_features=sqrt, max_depth=200, bootstrap=False, total=  10.6s\n",
            "[CV] n_estimators=4, min_samples_split=2, min_samples_leaf=2, max_features=auto, max_depth=115, bootstrap=False \n",
            "[CV]  n_estimators=4, min_samples_split=2, min_samples_leaf=2, max_features=auto, max_depth=115, bootstrap=False, total=   4.1s\n",
            "[CV] n_estimators=4, min_samples_split=2, min_samples_leaf=2, max_features=auto, max_depth=115, bootstrap=False \n",
            "[CV]  n_estimators=4, min_samples_split=2, min_samples_leaf=2, max_features=auto, max_depth=115, bootstrap=False, total=   6.6s\n",
            "[CV] n_estimators=4, min_samples_split=2, min_samples_leaf=2, max_features=auto, max_depth=115, bootstrap=False \n",
            "[CV]  n_estimators=4, min_samples_split=2, min_samples_leaf=2, max_features=auto, max_depth=115, bootstrap=False, total=   6.8s\n",
            "[CV] n_estimators=4, min_samples_split=5, min_samples_leaf=1, max_features=auto, max_depth=200, bootstrap=True \n",
            "[CV]  n_estimators=4, min_samples_split=5, min_samples_leaf=1, max_features=auto, max_depth=200, bootstrap=True, total=   3.1s\n",
            "[CV] n_estimators=4, min_samples_split=5, min_samples_leaf=1, max_features=auto, max_depth=200, bootstrap=True \n",
            "[CV]  n_estimators=4, min_samples_split=5, min_samples_leaf=1, max_features=auto, max_depth=200, bootstrap=True, total=   5.2s\n",
            "[CV] n_estimators=4, min_samples_split=5, min_samples_leaf=1, max_features=auto, max_depth=200, bootstrap=True \n",
            "[CV]  n_estimators=4, min_samples_split=5, min_samples_leaf=1, max_features=auto, max_depth=200, bootstrap=True, total=   5.4s\n",
            "[CV] n_estimators=5, min_samples_split=5, min_samples_leaf=4, max_features=sqrt, max_depth=73, bootstrap=True \n",
            "[CV]  n_estimators=5, min_samples_split=5, min_samples_leaf=4, max_features=sqrt, max_depth=73, bootstrap=True, total=   3.2s\n",
            "[CV] n_estimators=5, min_samples_split=5, min_samples_leaf=4, max_features=sqrt, max_depth=73, bootstrap=True \n",
            "[CV]  n_estimators=5, min_samples_split=5, min_samples_leaf=4, max_features=sqrt, max_depth=73, bootstrap=True, total=   5.1s\n",
            "[CV] n_estimators=5, min_samples_split=5, min_samples_leaf=4, max_features=sqrt, max_depth=73, bootstrap=True \n",
            "[CV]  n_estimators=5, min_samples_split=5, min_samples_leaf=4, max_features=sqrt, max_depth=73, bootstrap=True, total=   5.1s\n",
            "[CV] n_estimators=5, min_samples_split=5, min_samples_leaf=1, max_features=auto, max_depth=10, bootstrap=False \n",
            "[CV]  n_estimators=5, min_samples_split=5, min_samples_leaf=1, max_features=auto, max_depth=10, bootstrap=False, total=   2.2s\n",
            "[CV] n_estimators=5, min_samples_split=5, min_samples_leaf=1, max_features=auto, max_depth=10, bootstrap=False \n",
            "[CV]  n_estimators=5, min_samples_split=5, min_samples_leaf=1, max_features=auto, max_depth=10, bootstrap=False, total=   3.8s\n",
            "[CV] n_estimators=5, min_samples_split=5, min_samples_leaf=1, max_features=auto, max_depth=10, bootstrap=False \n",
            "[CV]  n_estimators=5, min_samples_split=5, min_samples_leaf=1, max_features=auto, max_depth=10, bootstrap=False, total=   3.7s\n",
            "[CV] n_estimators=1, min_samples_split=5, min_samples_leaf=1, max_features=auto, max_depth=73, bootstrap=True \n",
            "[CV]  n_estimators=1, min_samples_split=5, min_samples_leaf=1, max_features=auto, max_depth=73, bootstrap=True, total=   0.9s\n",
            "[CV] n_estimators=1, min_samples_split=5, min_samples_leaf=1, max_features=auto, max_depth=73, bootstrap=True \n",
            "[CV]  n_estimators=1, min_samples_split=5, min_samples_leaf=1, max_features=auto, max_depth=73, bootstrap=True, total=   1.6s\n",
            "[CV] n_estimators=1, min_samples_split=5, min_samples_leaf=1, max_features=auto, max_depth=73, bootstrap=True \n",
            "[CV]  n_estimators=1, min_samples_split=5, min_samples_leaf=1, max_features=auto, max_depth=73, bootstrap=True, total=   1.5s\n",
            "[CV] n_estimators=1, min_samples_split=2, min_samples_leaf=2, max_features=sqrt, max_depth=178, bootstrap=True \n",
            "[CV]  n_estimators=1, min_samples_split=2, min_samples_leaf=2, max_features=sqrt, max_depth=178, bootstrap=True, total=   0.9s\n",
            "[CV] n_estimators=1, min_samples_split=2, min_samples_leaf=2, max_features=sqrt, max_depth=178, bootstrap=True \n",
            "[CV]  n_estimators=1, min_samples_split=2, min_samples_leaf=2, max_features=sqrt, max_depth=178, bootstrap=True, total=   1.4s\n",
            "[CV] n_estimators=1, min_samples_split=2, min_samples_leaf=2, max_features=sqrt, max_depth=178, bootstrap=True \n",
            "[CV]  n_estimators=1, min_samples_split=2, min_samples_leaf=2, max_features=sqrt, max_depth=178, bootstrap=True, total=   1.4s\n",
            "[CV] n_estimators=4, min_samples_split=5, min_samples_leaf=4, max_features=sqrt, max_depth=73, bootstrap=True \n",
            "[CV]  n_estimators=4, min_samples_split=5, min_samples_leaf=4, max_features=sqrt, max_depth=73, bootstrap=True, total=   2.6s\n",
            "[CV] n_estimators=4, min_samples_split=5, min_samples_leaf=4, max_features=sqrt, max_depth=73, bootstrap=True \n",
            "[CV]  n_estimators=4, min_samples_split=5, min_samples_leaf=4, max_features=sqrt, max_depth=73, bootstrap=True, total=   4.1s\n",
            "[CV] n_estimators=4, min_samples_split=5, min_samples_leaf=4, max_features=sqrt, max_depth=73, bootstrap=True \n",
            "[CV]  n_estimators=4, min_samples_split=5, min_samples_leaf=4, max_features=sqrt, max_depth=73, bootstrap=True, total=   4.1s\n",
            "[CV] n_estimators=1, min_samples_split=2, min_samples_leaf=4, max_features=auto, max_depth=136, bootstrap=True \n",
            "[CV]  n_estimators=1, min_samples_split=2, min_samples_leaf=4, max_features=auto, max_depth=136, bootstrap=True, total=   0.7s\n",
            "[CV] n_estimators=1, min_samples_split=2, min_samples_leaf=4, max_features=auto, max_depth=136, bootstrap=True \n",
            "[CV]  n_estimators=1, min_samples_split=2, min_samples_leaf=4, max_features=auto, max_depth=136, bootstrap=True, total=   1.2s\n",
            "[CV] n_estimators=1, min_samples_split=2, min_samples_leaf=4, max_features=auto, max_depth=136, bootstrap=True \n",
            "[CV]  n_estimators=1, min_samples_split=2, min_samples_leaf=4, max_features=auto, max_depth=136, bootstrap=True, total=   1.2s\n",
            "[CV] n_estimators=1, min_samples_split=5, min_samples_leaf=2, max_features=sqrt, max_depth=10, bootstrap=False \n",
            "[CV]  n_estimators=1, min_samples_split=5, min_samples_leaf=2, max_features=sqrt, max_depth=10, bootstrap=False, total=   0.5s\n",
            "[CV] n_estimators=1, min_samples_split=5, min_samples_leaf=2, max_features=sqrt, max_depth=10, bootstrap=False \n",
            "[CV]  n_estimators=1, min_samples_split=5, min_samples_leaf=2, max_features=sqrt, max_depth=10, bootstrap=False, total=   0.9s\n",
            "[CV] n_estimators=1, min_samples_split=5, min_samples_leaf=2, max_features=sqrt, max_depth=10, bootstrap=False \n",
            "[CV]  n_estimators=1, min_samples_split=5, min_samples_leaf=2, max_features=sqrt, max_depth=10, bootstrap=False, total=   0.9s\n",
            "[CV] n_estimators=2, min_samples_split=10, min_samples_leaf=2, max_features=sqrt, max_depth=52, bootstrap=True \n",
            "[CV]  n_estimators=2, min_samples_split=10, min_samples_leaf=2, max_features=sqrt, max_depth=52, bootstrap=True, total=   1.5s\n",
            "[CV] n_estimators=2, min_samples_split=10, min_samples_leaf=2, max_features=sqrt, max_depth=52, bootstrap=True \n",
            "[CV]  n_estimators=2, min_samples_split=10, min_samples_leaf=2, max_features=sqrt, max_depth=52, bootstrap=True, total=   2.2s\n",
            "[CV] n_estimators=2, min_samples_split=10, min_samples_leaf=2, max_features=sqrt, max_depth=52, bootstrap=True \n",
            "[CV]  n_estimators=2, min_samples_split=10, min_samples_leaf=2, max_features=sqrt, max_depth=52, bootstrap=True, total=   2.3s\n",
            "[CV] n_estimators=3, min_samples_split=2, min_samples_leaf=4, max_features=auto, max_depth=52, bootstrap=True \n",
            "[CV]  n_estimators=3, min_samples_split=2, min_samples_leaf=4, max_features=auto, max_depth=52, bootstrap=True, total=   2.0s\n",
            "[CV] n_estimators=3, min_samples_split=2, min_samples_leaf=4, max_features=auto, max_depth=52, bootstrap=True \n",
            "[CV]  n_estimators=3, min_samples_split=2, min_samples_leaf=4, max_features=auto, max_depth=52, bootstrap=True, total=   3.1s\n",
            "[CV] n_estimators=3, min_samples_split=2, min_samples_leaf=4, max_features=auto, max_depth=52, bootstrap=True \n",
            "[CV]  n_estimators=3, min_samples_split=2, min_samples_leaf=4, max_features=auto, max_depth=52, bootstrap=True, total=   3.1s\n",
            "[CV] n_estimators=4, min_samples_split=2, min_samples_leaf=4, max_features=auto, max_depth=10, bootstrap=False \n",
            "[CV]  n_estimators=4, min_samples_split=2, min_samples_leaf=4, max_features=auto, max_depth=10, bootstrap=False, total=   1.8s\n",
            "[CV] n_estimators=4, min_samples_split=2, min_samples_leaf=4, max_features=auto, max_depth=10, bootstrap=False \n",
            "[CV]  n_estimators=4, min_samples_split=2, min_samples_leaf=4, max_features=auto, max_depth=10, bootstrap=False, total=   3.0s\n",
            "[CV] n_estimators=4, min_samples_split=2, min_samples_leaf=4, max_features=auto, max_depth=10, bootstrap=False \n",
            "[CV]  n_estimators=4, min_samples_split=2, min_samples_leaf=4, max_features=auto, max_depth=10, bootstrap=False, total=   3.0s\n",
            "[CV] n_estimators=5, min_samples_split=5, min_samples_leaf=2, max_features=sqrt, max_depth=200, bootstrap=True \n",
            "[CV]  n_estimators=5, min_samples_split=5, min_samples_leaf=2, max_features=sqrt, max_depth=200, bootstrap=True, total=   3.5s\n",
            "[CV] n_estimators=5, min_samples_split=5, min_samples_leaf=2, max_features=sqrt, max_depth=200, bootstrap=True \n",
            "[CV]  n_estimators=5, min_samples_split=5, min_samples_leaf=2, max_features=sqrt, max_depth=200, bootstrap=True, total=   5.8s\n",
            "[CV] n_estimators=5, min_samples_split=5, min_samples_leaf=2, max_features=sqrt, max_depth=200, bootstrap=True \n",
            "[CV]  n_estimators=5, min_samples_split=5, min_samples_leaf=2, max_features=sqrt, max_depth=200, bootstrap=True, total=   5.7s\n",
            "[CV] n_estimators=3, min_samples_split=5, min_samples_leaf=2, max_features=sqrt, max_depth=94, bootstrap=False \n",
            "[CV]  n_estimators=3, min_samples_split=5, min_samples_leaf=2, max_features=sqrt, max_depth=94, bootstrap=False, total=   3.1s\n",
            "[CV] n_estimators=3, min_samples_split=5, min_samples_leaf=2, max_features=sqrt, max_depth=94, bootstrap=False \n",
            "[CV]  n_estimators=3, min_samples_split=5, min_samples_leaf=2, max_features=sqrt, max_depth=94, bootstrap=False, total=   5.1s\n",
            "[CV] n_estimators=3, min_samples_split=5, min_samples_leaf=2, max_features=sqrt, max_depth=94, bootstrap=False \n",
            "[CV]  n_estimators=3, min_samples_split=5, min_samples_leaf=2, max_features=sqrt, max_depth=94, bootstrap=False, total=   5.0s\n",
            "[CV] n_estimators=2, min_samples_split=5, min_samples_leaf=2, max_features=auto, max_depth=136, bootstrap=True \n",
            "[CV]  n_estimators=2, min_samples_split=5, min_samples_leaf=2, max_features=auto, max_depth=136, bootstrap=True, total=   1.5s\n",
            "[CV] n_estimators=2, min_samples_split=5, min_samples_leaf=2, max_features=auto, max_depth=136, bootstrap=True \n",
            "[CV]  n_estimators=2, min_samples_split=5, min_samples_leaf=2, max_features=auto, max_depth=136, bootstrap=True, total=   2.5s\n",
            "[CV] n_estimators=2, min_samples_split=5, min_samples_leaf=2, max_features=auto, max_depth=136, bootstrap=True \n",
            "[CV]  n_estimators=2, min_samples_split=5, min_samples_leaf=2, max_features=auto, max_depth=136, bootstrap=True, total=   2.5s\n",
            "[CV] n_estimators=1, min_samples_split=5, min_samples_leaf=2, max_features=sqrt, max_depth=178, bootstrap=True \n",
            "[CV]  n_estimators=1, min_samples_split=5, min_samples_leaf=2, max_features=sqrt, max_depth=178, bootstrap=True, total=   0.8s\n",
            "[CV] n_estimators=1, min_samples_split=5, min_samples_leaf=2, max_features=sqrt, max_depth=178, bootstrap=True \n",
            "[CV]  n_estimators=1, min_samples_split=5, min_samples_leaf=2, max_features=sqrt, max_depth=178, bootstrap=True, total=   1.4s\n",
            "[CV] n_estimators=1, min_samples_split=5, min_samples_leaf=2, max_features=sqrt, max_depth=178, bootstrap=True \n",
            "[CV]  n_estimators=1, min_samples_split=5, min_samples_leaf=2, max_features=sqrt, max_depth=178, bootstrap=True, total=   1.3s\n",
            "[CV] n_estimators=3, min_samples_split=5, min_samples_leaf=1, max_features=sqrt, max_depth=200, bootstrap=True \n",
            "[CV]  n_estimators=3, min_samples_split=5, min_samples_leaf=1, max_features=sqrt, max_depth=200, bootstrap=True, total=   2.4s\n",
            "[CV] n_estimators=3, min_samples_split=5, min_samples_leaf=1, max_features=sqrt, max_depth=200, bootstrap=True \n",
            "[CV]  n_estimators=3, min_samples_split=5, min_samples_leaf=1, max_features=sqrt, max_depth=200, bootstrap=True, total=   4.0s\n",
            "[CV] n_estimators=3, min_samples_split=5, min_samples_leaf=1, max_features=sqrt, max_depth=200, bootstrap=True \n",
            "[CV]  n_estimators=3, min_samples_split=5, min_samples_leaf=1, max_features=sqrt, max_depth=200, bootstrap=True, total=   4.1s\n",
            "[CV] n_estimators=3, min_samples_split=2, min_samples_leaf=1, max_features=auto, max_depth=178, bootstrap=True \n",
            "[CV]  n_estimators=3, min_samples_split=2, min_samples_leaf=1, max_features=auto, max_depth=178, bootstrap=True, total=   2.7s\n",
            "[CV] n_estimators=3, min_samples_split=2, min_samples_leaf=1, max_features=auto, max_depth=178, bootstrap=True \n",
            "[CV]  n_estimators=3, min_samples_split=2, min_samples_leaf=1, max_features=auto, max_depth=178, bootstrap=True, total=   4.4s\n",
            "[CV] n_estimators=3, min_samples_split=2, min_samples_leaf=1, max_features=auto, max_depth=178, bootstrap=True \n",
            "[CV]  n_estimators=3, min_samples_split=2, min_samples_leaf=1, max_features=auto, max_depth=178, bootstrap=True, total=   4.4s\n",
            "[CV] n_estimators=2, min_samples_split=5, min_samples_leaf=2, max_features=auto, max_depth=31, bootstrap=True \n",
            "[CV]  n_estimators=2, min_samples_split=5, min_samples_leaf=2, max_features=auto, max_depth=31, bootstrap=True, total=   1.5s\n",
            "[CV] n_estimators=2, min_samples_split=5, min_samples_leaf=2, max_features=auto, max_depth=31, bootstrap=True \n",
            "[CV]  n_estimators=2, min_samples_split=5, min_samples_leaf=2, max_features=auto, max_depth=31, bootstrap=True, total=   2.5s\n",
            "[CV] n_estimators=2, min_samples_split=5, min_samples_leaf=2, max_features=auto, max_depth=31, bootstrap=True \n",
            "[CV]  n_estimators=2, min_samples_split=5, min_samples_leaf=2, max_features=auto, max_depth=31, bootstrap=True, total=   2.4s\n",
            "[CV] n_estimators=2, min_samples_split=10, min_samples_leaf=2, max_features=sqrt, max_depth=178, bootstrap=False \n",
            "[CV]  n_estimators=2, min_samples_split=10, min_samples_leaf=2, max_features=sqrt, max_depth=178, bootstrap=False, total=   1.8s\n",
            "[CV] n_estimators=2, min_samples_split=10, min_samples_leaf=2, max_features=sqrt, max_depth=178, bootstrap=False \n",
            "[CV]  n_estimators=2, min_samples_split=10, min_samples_leaf=2, max_features=sqrt, max_depth=178, bootstrap=False, total=   3.0s\n",
            "[CV] n_estimators=2, min_samples_split=10, min_samples_leaf=2, max_features=sqrt, max_depth=178, bootstrap=False \n",
            "[CV]  n_estimators=2, min_samples_split=10, min_samples_leaf=2, max_features=sqrt, max_depth=178, bootstrap=False, total=   3.1s\n",
            "[CV] n_estimators=1, min_samples_split=2, min_samples_leaf=4, max_features=auto, max_depth=52, bootstrap=True \n",
            "[CV]  n_estimators=1, min_samples_split=2, min_samples_leaf=4, max_features=auto, max_depth=52, bootstrap=True, total=   0.7s\n",
            "[CV] n_estimators=1, min_samples_split=2, min_samples_leaf=4, max_features=auto, max_depth=52, bootstrap=True \n",
            "[CV]  n_estimators=1, min_samples_split=2, min_samples_leaf=4, max_features=auto, max_depth=52, bootstrap=True, total=   1.2s\n",
            "[CV] n_estimators=1, min_samples_split=2, min_samples_leaf=4, max_features=auto, max_depth=52, bootstrap=True \n",
            "[CV]  n_estimators=1, min_samples_split=2, min_samples_leaf=4, max_features=auto, max_depth=52, bootstrap=True, total=   1.2s\n",
            "[CV] n_estimators=1, min_samples_split=10, min_samples_leaf=4, max_features=sqrt, max_depth=157, bootstrap=True \n",
            "[CV]  n_estimators=1, min_samples_split=10, min_samples_leaf=4, max_features=sqrt, max_depth=157, bootstrap=True, total=   0.7s\n",
            "[CV] n_estimators=1, min_samples_split=10, min_samples_leaf=4, max_features=sqrt, max_depth=157, bootstrap=True \n",
            "[CV]  n_estimators=1, min_samples_split=10, min_samples_leaf=4, max_features=sqrt, max_depth=157, bootstrap=True, total=   1.2s\n",
            "[CV] n_estimators=1, min_samples_split=10, min_samples_leaf=4, max_features=sqrt, max_depth=157, bootstrap=True \n",
            "[CV]  n_estimators=1, min_samples_split=10, min_samples_leaf=4, max_features=sqrt, max_depth=157, bootstrap=True, total=   1.2s\n",
            "[CV] n_estimators=4, min_samples_split=2, min_samples_leaf=2, max_features=sqrt, max_depth=136, bootstrap=False \n",
            "[CV]  n_estimators=4, min_samples_split=2, min_samples_leaf=2, max_features=sqrt, max_depth=136, bootstrap=False, total=   4.0s\n",
            "[CV] n_estimators=4, min_samples_split=2, min_samples_leaf=2, max_features=sqrt, max_depth=136, bootstrap=False \n",
            "[CV]  n_estimators=4, min_samples_split=2, min_samples_leaf=2, max_features=sqrt, max_depth=136, bootstrap=False, total=   6.6s\n",
            "[CV] n_estimators=4, min_samples_split=2, min_samples_leaf=2, max_features=sqrt, max_depth=136, bootstrap=False \n",
            "[CV]  n_estimators=4, min_samples_split=2, min_samples_leaf=2, max_features=sqrt, max_depth=136, bootstrap=False, total=   6.8s\n",
            "[CV] n_estimators=2, min_samples_split=5, min_samples_leaf=2, max_features=auto, max_depth=178, bootstrap=True \n",
            "[CV]  n_estimators=2, min_samples_split=5, min_samples_leaf=2, max_features=auto, max_depth=178, bootstrap=True, total=   1.5s\n",
            "[CV] n_estimators=2, min_samples_split=5, min_samples_leaf=2, max_features=auto, max_depth=178, bootstrap=True \n",
            "[CV]  n_estimators=2, min_samples_split=5, min_samples_leaf=2, max_features=auto, max_depth=178, bootstrap=True, total=   2.5s\n",
            "[CV] n_estimators=2, min_samples_split=5, min_samples_leaf=2, max_features=auto, max_depth=178, bootstrap=True \n",
            "[CV]  n_estimators=2, min_samples_split=5, min_samples_leaf=2, max_features=auto, max_depth=178, bootstrap=True, total=   2.5s\n",
            "[CV] n_estimators=5, min_samples_split=5, min_samples_leaf=1, max_features=auto, max_depth=31, bootstrap=True \n",
            "[CV]  n_estimators=5, min_samples_split=5, min_samples_leaf=1, max_features=auto, max_depth=31, bootstrap=True, total=   3.8s\n",
            "[CV] n_estimators=5, min_samples_split=5, min_samples_leaf=1, max_features=auto, max_depth=31, bootstrap=True \n",
            "[CV]  n_estimators=5, min_samples_split=5, min_samples_leaf=1, max_features=auto, max_depth=31, bootstrap=True, total=   6.2s\n",
            "[CV] n_estimators=5, min_samples_split=5, min_samples_leaf=1, max_features=auto, max_depth=31, bootstrap=True \n",
            "[CV]  n_estimators=5, min_samples_split=5, min_samples_leaf=1, max_features=auto, max_depth=31, bootstrap=True, total=   6.6s\n",
            "[CV] n_estimators=4, min_samples_split=2, min_samples_leaf=1, max_features=auto, max_depth=115, bootstrap=True \n",
            "[CV]  n_estimators=4, min_samples_split=2, min_samples_leaf=1, max_features=auto, max_depth=115, bootstrap=True, total=   3.5s\n",
            "[CV] n_estimators=4, min_samples_split=2, min_samples_leaf=1, max_features=auto, max_depth=115, bootstrap=True \n",
            "[CV]  n_estimators=4, min_samples_split=2, min_samples_leaf=1, max_features=auto, max_depth=115, bootstrap=True, total=   5.6s\n",
            "[CV] n_estimators=4, min_samples_split=2, min_samples_leaf=1, max_features=auto, max_depth=115, bootstrap=True \n",
            "[CV]  n_estimators=4, min_samples_split=2, min_samples_leaf=1, max_features=auto, max_depth=115, bootstrap=True, total=   5.7s\n",
            "[CV] n_estimators=1, min_samples_split=5, min_samples_leaf=1, max_features=sqrt, max_depth=157, bootstrap=True \n",
            "[CV]  n_estimators=1, min_samples_split=5, min_samples_leaf=1, max_features=sqrt, max_depth=157, bootstrap=True, total=   0.8s\n",
            "[CV] n_estimators=1, min_samples_split=5, min_samples_leaf=1, max_features=sqrt, max_depth=157, bootstrap=True \n",
            "[CV]  n_estimators=1, min_samples_split=5, min_samples_leaf=1, max_features=sqrt, max_depth=157, bootstrap=True, total=   1.5s\n",
            "[CV] n_estimators=1, min_samples_split=5, min_samples_leaf=1, max_features=sqrt, max_depth=157, bootstrap=True \n",
            "[CV]  n_estimators=1, min_samples_split=5, min_samples_leaf=1, max_features=sqrt, max_depth=157, bootstrap=True, total=   1.5s\n",
            "[CV] n_estimators=1, min_samples_split=10, min_samples_leaf=2, max_features=sqrt, max_depth=136, bootstrap=True \n",
            "[CV]  n_estimators=1, min_samples_split=10, min_samples_leaf=2, max_features=sqrt, max_depth=136, bootstrap=True, total=   0.8s\n",
            "[CV] n_estimators=1, min_samples_split=10, min_samples_leaf=2, max_features=sqrt, max_depth=136, bootstrap=True \n",
            "[CV]  n_estimators=1, min_samples_split=10, min_samples_leaf=2, max_features=sqrt, max_depth=136, bootstrap=True, total=   1.2s\n",
            "[CV] n_estimators=1, min_samples_split=10, min_samples_leaf=2, max_features=sqrt, max_depth=136, bootstrap=True \n",
            "[CV]  n_estimators=1, min_samples_split=10, min_samples_leaf=2, max_features=sqrt, max_depth=136, bootstrap=True, total=   1.3s\n",
            "[CV] n_estimators=4, min_samples_split=2, min_samples_leaf=2, max_features=auto, max_depth=136, bootstrap=False \n",
            "[CV]  n_estimators=4, min_samples_split=2, min_samples_leaf=2, max_features=auto, max_depth=136, bootstrap=False, total=   4.0s\n",
            "[CV] n_estimators=4, min_samples_split=2, min_samples_leaf=2, max_features=auto, max_depth=136, bootstrap=False \n",
            "[CV]  n_estimators=4, min_samples_split=2, min_samples_leaf=2, max_features=auto, max_depth=136, bootstrap=False, total=   6.6s\n",
            "[CV] n_estimators=4, min_samples_split=2, min_samples_leaf=2, max_features=auto, max_depth=136, bootstrap=False \n",
            "[CV]  n_estimators=4, min_samples_split=2, min_samples_leaf=2, max_features=auto, max_depth=136, bootstrap=False, total=   6.8s\n",
            "[CV] n_estimators=5, min_samples_split=5, min_samples_leaf=2, max_features=auto, max_depth=157, bootstrap=False \n",
            "[CV]  n_estimators=5, min_samples_split=5, min_samples_leaf=2, max_features=auto, max_depth=157, bootstrap=False, total=   5.0s\n",
            "[CV] n_estimators=5, min_samples_split=5, min_samples_leaf=2, max_features=auto, max_depth=157, bootstrap=False \n",
            "[CV]  n_estimators=5, min_samples_split=5, min_samples_leaf=2, max_features=auto, max_depth=157, bootstrap=False, total=   8.5s\n",
            "[CV] n_estimators=5, min_samples_split=5, min_samples_leaf=2, max_features=auto, max_depth=157, bootstrap=False \n",
            "[CV]  n_estimators=5, min_samples_split=5, min_samples_leaf=2, max_features=auto, max_depth=157, bootstrap=False, total=   8.2s\n",
            "[CV] n_estimators=4, min_samples_split=10, min_samples_leaf=1, max_features=sqrt, max_depth=115, bootstrap=False \n",
            "[CV]  n_estimators=4, min_samples_split=10, min_samples_leaf=1, max_features=sqrt, max_depth=115, bootstrap=False, total=   3.9s\n",
            "[CV] n_estimators=4, min_samples_split=10, min_samples_leaf=1, max_features=sqrt, max_depth=115, bootstrap=False \n",
            "[CV]  n_estimators=4, min_samples_split=10, min_samples_leaf=1, max_features=sqrt, max_depth=115, bootstrap=False, total=   6.6s\n",
            "[CV] n_estimators=4, min_samples_split=10, min_samples_leaf=1, max_features=sqrt, max_depth=115, bootstrap=False \n",
            "[CV]  n_estimators=4, min_samples_split=10, min_samples_leaf=1, max_features=sqrt, max_depth=115, bootstrap=False, total=   6.7s\n",
            "[CV] n_estimators=4, min_samples_split=5, min_samples_leaf=2, max_features=sqrt, max_depth=94, bootstrap=False \n",
            "[CV]  n_estimators=4, min_samples_split=5, min_samples_leaf=2, max_features=sqrt, max_depth=94, bootstrap=False, total=   4.1s\n",
            "[CV] n_estimators=4, min_samples_split=5, min_samples_leaf=2, max_features=sqrt, max_depth=94, bootstrap=False \n",
            "[CV]  n_estimators=4, min_samples_split=5, min_samples_leaf=2, max_features=sqrt, max_depth=94, bootstrap=False, total=   6.7s\n",
            "[CV] n_estimators=4, min_samples_split=5, min_samples_leaf=2, max_features=sqrt, max_depth=94, bootstrap=False \n",
            "[CV]  n_estimators=4, min_samples_split=5, min_samples_leaf=2, max_features=sqrt, max_depth=94, bootstrap=False, total=   6.6s\n",
            "[CV] n_estimators=5, min_samples_split=5, min_samples_leaf=2, max_features=auto, max_depth=None, bootstrap=False \n",
            "[CV]  n_estimators=5, min_samples_split=5, min_samples_leaf=2, max_features=auto, max_depth=None, bootstrap=False, total=   5.0s\n",
            "[CV] n_estimators=5, min_samples_split=5, min_samples_leaf=2, max_features=auto, max_depth=None, bootstrap=False \n",
            "[CV]  n_estimators=5, min_samples_split=5, min_samples_leaf=2, max_features=auto, max_depth=None, bootstrap=False, total=   8.3s\n",
            "[CV] n_estimators=5, min_samples_split=5, min_samples_leaf=2, max_features=auto, max_depth=None, bootstrap=False \n",
            "[CV]  n_estimators=5, min_samples_split=5, min_samples_leaf=2, max_features=auto, max_depth=None, bootstrap=False, total=   8.1s\n",
            "[CV] n_estimators=1, min_samples_split=2, min_samples_leaf=4, max_features=auto, max_depth=200, bootstrap=False \n",
            "[CV]  n_estimators=1, min_samples_split=2, min_samples_leaf=4, max_features=auto, max_depth=200, bootstrap=False, total=   0.9s\n",
            "[CV] n_estimators=1, min_samples_split=2, min_samples_leaf=4, max_features=auto, max_depth=200, bootstrap=False \n",
            "[CV]  n_estimators=1, min_samples_split=2, min_samples_leaf=4, max_features=auto, max_depth=200, bootstrap=False, total=   1.5s\n",
            "[CV] n_estimators=1, min_samples_split=2, min_samples_leaf=4, max_features=auto, max_depth=200, bootstrap=False \n",
            "[CV]  n_estimators=1, min_samples_split=2, min_samples_leaf=4, max_features=auto, max_depth=200, bootstrap=False, total=   1.6s\n",
            "[CV] n_estimators=4, min_samples_split=5, min_samples_leaf=2, max_features=sqrt, max_depth=None, bootstrap=True \n",
            "[CV]  n_estimators=4, min_samples_split=5, min_samples_leaf=2, max_features=sqrt, max_depth=None, bootstrap=True, total=   2.8s\n",
            "[CV] n_estimators=4, min_samples_split=5, min_samples_leaf=2, max_features=sqrt, max_depth=None, bootstrap=True \n",
            "[CV]  n_estimators=4, min_samples_split=5, min_samples_leaf=2, max_features=sqrt, max_depth=None, bootstrap=True, total=   4.7s\n",
            "[CV] n_estimators=4, min_samples_split=5, min_samples_leaf=2, max_features=sqrt, max_depth=None, bootstrap=True \n",
            "[CV]  n_estimators=4, min_samples_split=5, min_samples_leaf=2, max_features=sqrt, max_depth=None, bootstrap=True, total=   4.6s\n",
            "[CV] n_estimators=3, min_samples_split=2, min_samples_leaf=1, max_features=auto, max_depth=94, bootstrap=False \n",
            "[CV]  n_estimators=3, min_samples_split=2, min_samples_leaf=1, max_features=auto, max_depth=94, bootstrap=False, total=   3.8s\n",
            "[CV] n_estimators=3, min_samples_split=2, min_samples_leaf=1, max_features=auto, max_depth=94, bootstrap=False \n",
            "[CV]  n_estimators=3, min_samples_split=2, min_samples_leaf=1, max_features=auto, max_depth=94, bootstrap=False, total=   6.5s\n",
            "[CV] n_estimators=3, min_samples_split=2, min_samples_leaf=1, max_features=auto, max_depth=94, bootstrap=False \n",
            "[CV]  n_estimators=3, min_samples_split=2, min_samples_leaf=1, max_features=auto, max_depth=94, bootstrap=False, total=   6.5s\n",
            "[CV] n_estimators=1, min_samples_split=2, min_samples_leaf=1, max_features=auto, max_depth=73, bootstrap=True \n",
            "[CV]  n_estimators=1, min_samples_split=2, min_samples_leaf=1, max_features=auto, max_depth=73, bootstrap=True, total=   1.0s\n",
            "[CV] n_estimators=1, min_samples_split=2, min_samples_leaf=1, max_features=auto, max_depth=73, bootstrap=True \n",
            "[CV]  n_estimators=1, min_samples_split=2, min_samples_leaf=1, max_features=auto, max_depth=73, bootstrap=True, total=   1.6s\n",
            "[CV] n_estimators=1, min_samples_split=2, min_samples_leaf=1, max_features=auto, max_depth=73, bootstrap=True \n",
            "[CV]  n_estimators=1, min_samples_split=2, min_samples_leaf=1, max_features=auto, max_depth=73, bootstrap=True, total=   1.6s\n",
            "[CV] n_estimators=5, min_samples_split=2, min_samples_leaf=2, max_features=auto, max_depth=73, bootstrap=True \n",
            "[CV]  n_estimators=5, min_samples_split=2, min_samples_leaf=2, max_features=auto, max_depth=73, bootstrap=True, total=   3.6s\n",
            "[CV] n_estimators=5, min_samples_split=2, min_samples_leaf=2, max_features=auto, max_depth=73, bootstrap=True \n",
            "[CV]  n_estimators=5, min_samples_split=2, min_samples_leaf=2, max_features=auto, max_depth=73, bootstrap=True, total=   6.0s\n",
            "[CV] n_estimators=5, min_samples_split=2, min_samples_leaf=2, max_features=auto, max_depth=73, bootstrap=True \n",
            "[CV]  n_estimators=5, min_samples_split=2, min_samples_leaf=2, max_features=auto, max_depth=73, bootstrap=True, total=   6.3s\n",
            "[CV] n_estimators=1, min_samples_split=10, min_samples_leaf=2, max_features=auto, max_depth=178, bootstrap=False \n",
            "[CV]  n_estimators=1, min_samples_split=10, min_samples_leaf=2, max_features=auto, max_depth=178, bootstrap=False, total=   1.0s\n",
            "[CV] n_estimators=1, min_samples_split=10, min_samples_leaf=2, max_features=auto, max_depth=178, bootstrap=False \n",
            "[CV]  n_estimators=1, min_samples_split=10, min_samples_leaf=2, max_features=auto, max_depth=178, bootstrap=False, total=   1.6s\n",
            "[CV] n_estimators=1, min_samples_split=10, min_samples_leaf=2, max_features=auto, max_depth=178, bootstrap=False \n",
            "[CV]  n_estimators=1, min_samples_split=10, min_samples_leaf=2, max_features=auto, max_depth=178, bootstrap=False, total=   1.6s\n",
            "[CV] n_estimators=2, min_samples_split=2, min_samples_leaf=1, max_features=sqrt, max_depth=10, bootstrap=False \n",
            "[CV]  n_estimators=2, min_samples_split=2, min_samples_leaf=1, max_features=sqrt, max_depth=10, bootstrap=False, total=   1.0s\n",
            "[CV] n_estimators=2, min_samples_split=2, min_samples_leaf=1, max_features=sqrt, max_depth=10, bootstrap=False \n",
            "[CV]  n_estimators=2, min_samples_split=2, min_samples_leaf=1, max_features=sqrt, max_depth=10, bootstrap=False, total=   1.7s\n",
            "[CV] n_estimators=2, min_samples_split=2, min_samples_leaf=1, max_features=sqrt, max_depth=10, bootstrap=False \n",
            "[CV]  n_estimators=2, min_samples_split=2, min_samples_leaf=1, max_features=sqrt, max_depth=10, bootstrap=False, total=   1.5s\n",
            "[CV] n_estimators=2, min_samples_split=5, min_samples_leaf=1, max_features=auto, max_depth=94, bootstrap=True \n",
            "[CV]  n_estimators=2, min_samples_split=5, min_samples_leaf=1, max_features=auto, max_depth=94, bootstrap=True, total=   1.6s\n",
            "[CV] n_estimators=2, min_samples_split=5, min_samples_leaf=1, max_features=auto, max_depth=94, bootstrap=True \n",
            "[CV]  n_estimators=2, min_samples_split=5, min_samples_leaf=1, max_features=auto, max_depth=94, bootstrap=True, total=   2.7s\n",
            "[CV] n_estimators=2, min_samples_split=5, min_samples_leaf=1, max_features=auto, max_depth=94, bootstrap=True \n",
            "[CV]  n_estimators=2, min_samples_split=5, min_samples_leaf=1, max_features=auto, max_depth=94, bootstrap=True, total=   2.8s\n",
            "[CV] n_estimators=1, min_samples_split=10, min_samples_leaf=4, max_features=auto, max_depth=52, bootstrap=True \n",
            "[CV]  n_estimators=1, min_samples_split=10, min_samples_leaf=4, max_features=auto, max_depth=52, bootstrap=True, total=   0.7s\n",
            "[CV] n_estimators=1, min_samples_split=10, min_samples_leaf=4, max_features=auto, max_depth=52, bootstrap=True \n",
            "[CV]  n_estimators=1, min_samples_split=10, min_samples_leaf=4, max_features=auto, max_depth=52, bootstrap=True, total=   1.2s\n",
            "[CV] n_estimators=1, min_samples_split=10, min_samples_leaf=4, max_features=auto, max_depth=52, bootstrap=True \n",
            "[CV]  n_estimators=1, min_samples_split=10, min_samples_leaf=4, max_features=auto, max_depth=52, bootstrap=True, total=   1.2s\n"
          ],
          "name": "stdout"
        },
        {
          "output_type": "stream",
          "text": [
            "[Parallel(n_jobs=1)]: Done 300 out of 300 | elapsed: 24.6min finished\n",
            "/usr/local/lib/python3.6/dist-packages/sklearn/model_selection/_search.py:841: DeprecationWarning: The default of the `iid` parameter will change from True to False in version 0.22 and will be removed in 0.24. This will change numeric results when test-set sizes are unequal.\n",
            "  DeprecationWarning)\n"
          ],
          "name": "stderr"
        },
        {
          "output_type": "execute_result",
          "data": {
            "text/plain": [
              "RandomizedSearchCV(cv=3, error_score='raise-deprecating',\n",
              "          estimator=RandomForestClassifier(bootstrap=True, class_weight=None, criterion='gini',\n",
              "            max_depth=None, max_features='auto', max_leaf_nodes=None,\n",
              "            min_impurity_decrease=0.0, min_impurity_split=None,\n",
              "            min_samples_leaf=1, min_samples_split=2,\n",
              "            min_weight_fraction_leaf=0.0, n_estimators='warn', n_jobs=None,\n",
              "            oob_score=False, random_state=42, verbose=0, warm_start=False),\n",
              "          fit_params=None, iid='warn', n_iter=100, n_jobs=1,\n",
              "          param_distributions={'n_estimators': [1, 2, 3, 4, 5], 'max_features': ['auto', 'sqrt'], 'max_depth': [10, 31, 52, 73, 94, 115, 136, 157, 178, 200, None], 'min_samples_split': [2, 5, 10], 'min_samples_leaf': [1, 2, 4], 'bootstrap': [True, False]},\n",
              "          pre_dispatch='2*n_jobs', random_state=42, refit=True,\n",
              "          return_train_score=True, scoring='neg_mean_absolute_error',\n",
              "          verbose=2)"
            ]
          },
          "metadata": {
            "tags": []
          },
          "execution_count": 20
        }
      ]
    },
    {
      "metadata": {
        "id": "sVfX0olhP8Bf",
        "colab_type": "code",
        "outputId": "3615d892-52d3-4786-e7ff-2c7dfbd98872",
        "colab": {
          "base_uri": "https://localhost:8080/",
          "height": 119
        }
      },
      "cell_type": "code",
      "source": [
        "rf_random.best_params_"
      ],
      "execution_count": 0,
      "outputs": [
        {
          "output_type": "execute_result",
          "data": {
            "text/plain": [
              "{'bootstrap': False,\n",
              " 'max_depth': 73,\n",
              " 'max_features': 'auto',\n",
              " 'min_samples_leaf': 1,\n",
              " 'min_samples_split': 10,\n",
              " 'n_estimators': 5}"
            ]
          },
          "metadata": {
            "tags": []
          },
          "execution_count": 21
        }
      ]
    },
    {
      "metadata": {
        "id": "BV7-fdhfdxkJ",
        "colab_type": "code",
        "outputId": "cff119bc-7d68-491b-ae5c-0b6b6c100fa8",
        "colab": {
          "base_uri": "https://localhost:8080/",
          "height": 34
        }
      },
      "cell_type": "code",
      "source": [
        "from sklearn.model_selection import RandomizedSearchCV\n",
        "\n",
        "# Number of trees in random forest\n",
        "n_estimators = [int(x) for x in np.linspace(start = 5, stop = 7, num = 3)]\n",
        "# Number of features to consider at every split\n",
        "max_features = ['auto', 'sqrt']\n",
        "# Maximum number of levels in tree\n",
        "max_depth = [int(x) for x in np.linspace(10, 200, num = 5)]\n",
        "max_depth.append(None)\n",
        "# Minimum number of samples required to split a node\n",
        "min_samples_split = [2, 5, 10, 50]\n",
        "# Minimum number of samples required at each leaf node\n",
        "min_samples_leaf = [1, 2, 4, 10]\n",
        "# Method of selecting samples for training each tree\n",
        "bootstrap = [True, False]\n",
        "\n",
        "criterion = ['entropy', 'gini']\n",
        "\n",
        "# Create the random grid\n",
        "random_grid = {'n_estimators': n_estimators,\n",
        "               'max_features': max_features,\n",
        "               'max_depth': max_depth,\n",
        "               'min_samples_split': min_samples_split,\n",
        "               'min_samples_leaf': min_samples_leaf,\n",
        "               'bootstrap': bootstrap,\n",
        "              'criterion': criterion}\n",
        "\n",
        "print(random_grid)"
      ],
      "execution_count": 0,
      "outputs": [
        {
          "output_type": "stream",
          "text": [
            "{'n_estimators': [5, 6, 7], 'max_features': ['auto', 'sqrt'], 'max_depth': [10, 57, 105, 152, 200, None], 'min_samples_split': [2, 5, 10, 50], 'min_samples_leaf': [1, 2, 4, 10], 'bootstrap': [True, False], 'criterion': ['entropy', 'gini']}\n"
          ],
          "name": "stdout"
        }
      ]
    },
    {
      "metadata": {
        "id": "-rOb_oG6dx3K",
        "colab_type": "code",
        "outputId": "47f3dec6-c720-4b88-b9d2-d3a8ec414ea8",
        "colab": {
          "base_uri": "https://localhost:8080/",
          "height": 102
        }
      },
      "cell_type": "code",
      "source": [
        "X_train, X_test, y_train, y_test = get_train_test()\n",
        "\n",
        "# Use the random grid to search for best hyperparameters\n",
        "# First create the base model to tune\n",
        "rf = RandomForestClassifier(random_state = 42)\n",
        "# Random search of parameters, using 3 fold cross validation, \n",
        "# search across 100 different combinations, and use all available cores\n",
        "rf_random = RandomizedSearchCV(estimator=rf, param_distributions=random_grid,\n",
        "                              n_iter = 100, scoring='neg_mean_absolute_error', \n",
        "                              cv = 5, verbose=2, random_state=42, n_jobs=1,\n",
        "                              return_train_score=True)\n",
        "\n",
        "# Fit the random search model\n",
        "rf_random.fit(X_train, y_train)"
      ],
      "execution_count": 0,
      "outputs": [
        {
          "output_type": "stream",
          "text": [
            "Fitting 5 folds for each of 100 candidates, totalling 500 fits\n"
          ],
          "name": "stdout"
        },
        {
          "output_type": "stream",
          "text": [
            "/usr/local/lib/python3.6/dist-packages/sklearn/model_selection/_split.py:652: Warning: The least populated class in y has only 1 members, which is too few. The minimum number of members in any class cannot be less than n_splits=5.\n",
            "  % (min_groups, self.n_splits)), Warning)\n",
            "[Parallel(n_jobs=1)]: Using backend SequentialBackend with 1 concurrent workers.\n"
          ],
          "name": "stderr"
        },
        {
          "output_type": "stream",
          "text": [
            "[CV] n_estimators=7, min_samples_split=10, min_samples_leaf=1, max_features=auto, max_depth=None, criterion=entropy, bootstrap=False \n"
          ],
          "name": "stdout"
        }
      ]
    },
    {
      "metadata": {
        "id": "gX5vkuBCd2qA",
        "colab_type": "code",
        "colab": {}
      },
      "cell_type": "code",
      "source": [
        "rf_random.best_params_"
      ],
      "execution_count": 0,
      "outputs": []
    }
  ]
}