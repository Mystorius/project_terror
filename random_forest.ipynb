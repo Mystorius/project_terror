{
  "nbformat": 4,
  "nbformat_minor": 0,
  "metadata": {
    "colab": {
      "name": "random_forest.ipynb",
      "version": "0.3.2",
      "provenance": [],
      "collapsed_sections": [],
      "include_colab_link": true
    },
    "kernelspec": {
      "name": "python3",
      "display_name": "Python 3"
    }
  },
  "cells": [
    {
      "cell_type": "markdown",
      "metadata": {
        "id": "view-in-github",
        "colab_type": "text"
      },
      "source": [
        "<a href=\"https://colab.research.google.com/github/Mystorius/project_terror/blob/master/random_forest.ipynb\" target=\"_parent\"><img src=\"https://colab.research.google.com/assets/colab-badge.svg\" alt=\"Open In Colab\"/></a>"
      ]
    },
    {
      "metadata": {
        "id": "VaGhjRiCVgju",
        "colab_type": "code",
        "colab": {}
      },
      "cell_type": "code",
      "source": [
        "import pandas as pd\n",
        "import numpy as np\n",
        "from sklearn.ensemble import RandomForestClassifier\n",
        "from sklearn.model_selection import train_test_split\n",
        "from sklearn.preprocessing import OneHotEncoder\n",
        "from sklearn.preprocessing import LabelEncoder\n",
        "import matplotlib.pyplot as plt\n",
        "from sklearn.metrics import accuracy_score\n"
      ],
      "execution_count": 0,
      "outputs": []
    },
    {
      "metadata": {
        "colab_type": "code",
        "id": "340A2HRPZXsu",
        "colab": {}
      },
      "cell_type": "code",
      "source": [
        "def get_train_test():\n",
        "    file = 'data_ml.csv'\n",
        "    df = pd.read_csv(file, sep=\";\", header=0, encoding=\"ISO-8859-1\", low_memory=False)\n",
        "    #df_X = df.drop(['gname','Unnamed: 0'], axis=1)\n",
        "    df_X = df.drop(['gname','Unnamed: 0', 'weaptype3', 'nhostkid', 'weaptype2', 'property', 'propextent', 'weaptype1', 'nperps', 'region'], axis=1)\n",
        "    df_y = df['gname'].values\n",
        "    \n",
        "    label_encoder = LabelEncoder()\n",
        "    df_y_int = label_encoder.fit_transform(df_y)\n",
        "    \n",
        "    return train_test_split(df_X, df_y, test_size=0.33, random_state=42)\n",
        "\n",
        "X_train, X_test, y_train, y_test = get_train_test()\n",
        "\n",
        "# Create a random forest Classifier. By convention, clf means 'Classifier'\n",
        "clf = RandomForestClassifier(n_estimators=15)\n",
        "\n",
        "# Train the Classifier to take the training features and learn how they relate\n",
        "# to the training y (the species)\n",
        "clf.fit(X_train, y_train)\n",
        "\n",
        "# Apply the Classifier we trained to the test data (which, remember, it has never seen before)\n",
        "y_pred = clf.predict(X_test)\n",
        "\n",
        "score = clf.score(X_train, y_train)\n",
        "print('TRAIN ', score)\n",
        "\n",
        "score = clf.score(X_test, y_test)\n",
        "print('TEST ', score)\n",
        "\n",
        "score = accuracy_score(y_test, y_pred)\n",
        "print('TEST2 ', score)\n",
        "\n",
        "errors = 0\n",
        "correct = 0\n",
        "for i in range(0, len(y_pred)):\n",
        "  if y_pred[i] == y_test[i]:\n",
        "    correct += 1\n",
        "  else:\n",
        "    errors += 1\n",
        "print(errors, correct, errors+correct)\n",
        "print(correct/len(y_pred))"
      ],
      "execution_count": 0,
      "outputs": []
    },
    {
      "metadata": {
        "id": "GArSPgwB9PYH",
        "colab_type": "code",
        "colab": {}
      },
      "cell_type": "code",
      "source": [
        "from sklearn import metrics\n",
        "print('Mean Absolute Error:', metrics.mean_absolute_error(y_test, y_pred))\n",
        "print('Mean Squared Error:', metrics.mean_squared_error(y_test, y_pred))\n",
        "print('Root Mean Squared Error:', np.sqrt(metrics.mean_squared_error(y_test, y_pred)))\n"
      ],
      "execution_count": 0,
      "outputs": []
    },
    {
      "metadata": {
        "id": "RpNOWurtD5Bv",
        "colab_type": "code",
        "outputId": "b0c24018-7dd2-45c6-ce8b-520f5f9e8a38",
        "colab": {
          "base_uri": "https://localhost:8080/",
          "height": 674
        }
      },
      "cell_type": "code",
      "source": [
        "importances = clf.feature_importances_\n",
        "print(importances)\n",
        "std = np.std([tree.feature_importances_ for tree in clf.estimators_],\n",
        "             axis=0)\n",
        "indices = np.argsort(importances)[::-1]\n",
        "feature_names = X_test.columns\n",
        "print(feature_names)\n",
        "# Print the feature ranking\n",
        "print(\"Feature ranking:\")\n",
        "\n",
        "for f in range(X_train.shape[1]):\n",
        "    print(\"%d. feature %s (%f)\" % (f + 1, feature_names[indices[f]], importances[indices[f]]))\n",
        "\n",
        "# Plot the feature importances of the forest\n",
        "plt.figure()\n",
        "plt.title(\"Feature importances\")\n",
        "plt.bar(range(X_train.shape[1]), importances[indices],\n",
        "       color=\"r\", yerr=std[indices], align=\"center\")\n",
        "plt.xticks(range(X_train.shape[1]), indices)\n",
        "plt.xlim([-1, X_train.shape[1]])\n",
        "plt.show()"
      ],
      "execution_count": 0,
      "outputs": [
        {
          "output_type": "stream",
          "text": [
            "[0.08216801 0.10179257 0.09221553 0.17471335 0.1913673  0.04787733\n",
            " 0.04258586 0.08482016 0.06857983 0.0585605  0.05531957]\n",
            "Index(['imonth', 'iday', 'country', 'latitude', 'longitude', 'attacktype1',\n",
            "       'targtype1', 'targsubtype1', 'natlty1', 'nkill', 'nwound'],\n",
            "      dtype='object')\n",
            "Feature ranking:\n",
            "1. feature longitude (0.191367)\n",
            "2. feature latitude (0.174713)\n",
            "3. feature iday (0.101793)\n",
            "4. feature country (0.092216)\n",
            "5. feature targsubtype1 (0.084820)\n",
            "6. feature imonth (0.082168)\n",
            "7. feature natlty1 (0.068580)\n",
            "8. feature nkill (0.058560)\n",
            "9. feature nwound (0.055320)\n",
            "10. feature attacktype1 (0.047877)\n",
            "11. feature targtype1 (0.042586)\n"
          ],
          "name": "stdout"
        },
        {
          "output_type": "display_data",
          "data": {
            "image/png": "[encoded data removed]",
            "text/plain": [
              "<Figure size 576x396 with 1 Axes>"
            ]
          },
          "metadata": {
            "tags": []
          }
        }
      ]
    },
    {
      "metadata": {
        "id": "6800PNtKJZ4z",
        "colab_type": "code",
        "outputId": "54528a8d-dd55-4e81-de36-ebff590f0fc9",
        "colab": {
          "base_uri": "https://localhost:8080/",
          "height": 246
        }
      },
      "cell_type": "code",
      "source": [
        "rf_small = RandomForestClassifier(n_estimators=2, max_depth = 20)\n",
        "rf_small.fit(X_train, y_train)\n",
        "\n",
        "# Import tools needed for visualization\n",
        "from sklearn.tree import export_graphviz\n",
        "import pydot\n",
        "\n",
        "# Pull out one tree from the forest\n",
        "tree = rf_small.estimators_[0]\n",
        "\n",
        "# Import tools needed for visualization\n",
        "from sklearn.tree import export_graphviz\n",
        "import pydot\n",
        "\n",
        "# Pull out one tree from the forest\n",
        "tree = rf_small.estimators_[0]\n",
        "\n",
        "# Export the image to a dot file\n",
        "#class_names = y_train\n",
        "export_graphviz(tree, out_file = 'tree.dot', feature_names = X_test.columns, rounded = True, precision = 1)\n",
        "\n",
        "# Use dot file to create a graph\n",
        "(graph, ) = pydot.graph_from_dot_file('tree.dot')\n",
        "\n",
        "# Write graph to a png file\n",
        "graph.write_png('tree.png')"
      ],
      "execution_count": 0,
      "outputs": [
        {
          "output_type": "error",
          "ename": "NameError",
          "evalue": "ignored",
          "traceback": [
            "\u001b[0;31m---------------------------------------------------------------------------\u001b[0m",
            "\u001b[0;31mNameError\u001b[0m                                 Traceback (most recent call last)",
            "\u001b[0;32m<ipython-input-1-53404e529740>\u001b[0m in \u001b[0;36m<module>\u001b[0;34m()\u001b[0m\n\u001b[0;32m----> 1\u001b[0;31m \u001b[0mrf_small\u001b[0m \u001b[0;34m=\u001b[0m \u001b[0mRandomForestClassifier\u001b[0m\u001b[0;34m(\u001b[0m\u001b[0mn_estimators\u001b[0m\u001b[0;34m=\u001b[0m\u001b[0;36m2\u001b[0m\u001b[0;34m,\u001b[0m \u001b[0mmax_depth\u001b[0m \u001b[0;34m=\u001b[0m \u001b[0;36m20\u001b[0m\u001b[0;34m)\u001b[0m\u001b[0;34m\u001b[0m\u001b[0;34m\u001b[0m\u001b[0m\n\u001b[0m\u001b[1;32m      2\u001b[0m \u001b[0mrf_small\u001b[0m\u001b[0;34m.\u001b[0m\u001b[0mfit\u001b[0m\u001b[0;34m(\u001b[0m\u001b[0mX_train\u001b[0m\u001b[0;34m,\u001b[0m \u001b[0my_train\u001b[0m\u001b[0;34m)\u001b[0m\u001b[0;34m\u001b[0m\u001b[0;34m\u001b[0m\u001b[0m\n\u001b[1;32m      3\u001b[0m \u001b[0;34m\u001b[0m\u001b[0m\n\u001b[1;32m      4\u001b[0m \u001b[0;31m# Import tools needed for visualization\u001b[0m\u001b[0;34m\u001b[0m\u001b[0;34m\u001b[0m\u001b[0;34m\u001b[0m\u001b[0m\n\u001b[1;32m      5\u001b[0m \u001b[0;32mfrom\u001b[0m \u001b[0msklearn\u001b[0m\u001b[0;34m.\u001b[0m\u001b[0mtree\u001b[0m \u001b[0;32mimport\u001b[0m \u001b[0mexport_graphviz\u001b[0m\u001b[0;34m\u001b[0m\u001b[0;34m\u001b[0m\u001b[0m\n",
            "\u001b[0;31mNameError\u001b[0m: name 'RandomForestClassifier' is not defined"
          ]
        }
      ]
    }
  ]
}